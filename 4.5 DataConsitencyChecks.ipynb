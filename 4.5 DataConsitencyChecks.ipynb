{
 "cells": [
  {
   "cell_type": "code",
   "execution_count": 31,
   "id": "505ceb8d-ee3c-4951-8194-d2a64ee3cbfb",
   "metadata": {},
   "outputs": [
    {
     "name": "stdout",
     "output_type": "stream",
     "text": [
      "['Screenshot 2025-10-08 at 17.18.57.png', 'Screenshot 2025-10-07 at 15.53.03.png', 'departments_wrangled_test.csv', 'Screenshot 2025-10-07 at 10.26.41.png', 'Screenshot 2025-10-06 at 15.38.17.png', 'orders.csv', '.DS_Store', 'Screenshot 2025-10-08 at 17.18.53.png', 'CF Data Analysis essentials ', '.localized', 'Screenshot 2025-10-08 at 09.39.49.png', 'Screenshot 2025-10-06 at 12.59.16.png', 'orders_wrangled_test.csv', 'Screenshot 2025-10-08 at 17.22.31.png', 'Screenshot 2025-10-06 at 09.17.49.png', 'Screenshot 2025-10-08 at 09.39.58.png', 'Screenshot 2025-10-04 at 09.09.42.png', 'Screenshot 2025-10-08 at 17.16.22.png', 'ords_prods_merge_final.pkl', 'CF Career Path', 'Screenshot 2025-10-06 at 15.22.25.png', 'Screenshot 2025-10-08 at 17.32.00.png', 'Screenshot 2025-10-04 at 18.58.36.png', 'Screenshot 2025-10-08 at 17.16.17.png', 'Screenshot 2025-10-08 at 17.15.34.png', 'Screenshot 2025-10-06 at 11.21.57.png', 'Screenshot 2025-10-06 at 13.42.00.png', 'Screenshot 2025-10-04 at 19.34.58.png', 'Screenshot 2025-10-06 at 16.28.29.png']\n"
     ]
    }
   ],
   "source": [
    "import pandas as pd\n",
    "import os\n",
    "\n",
    "df = pd.read_csv(r'/Users/am/Desktop/CF Data Analysis essentials /2_Data Analytics Immersions_2 von 3/4 Phyton/4.3/4.3_orders_products/orders.csv', index_col=False)\n",
    "print(os.listdir('/Users/am/Desktop'))"
   ]
  },
  {
   "cell_type": "code",
   "execution_count": 32,
   "id": "9bc8298e-e887-4126-a953-9899a86fadaf",
   "metadata": {},
   "outputs": [],
   "source": [
    "#create datframe\n",
    "df_test = pd.DataFrame()"
   ]
  },
  {
   "cell_type": "code",
   "execution_count": 33,
   "id": "e96651e5-e829-4437-86d6-877ec1a1c666",
   "metadata": {},
   "outputs": [],
   "source": [
    "df_test['mix'] = ['a', 'b', 1, True]"
   ]
  },
  {
   "cell_type": "code",
   "execution_count": 34,
   "id": "e98f6e68-2a2a-467f-8c6d-61bebc3e2cf6",
   "metadata": {},
   "outputs": [
    {
     "data": {
      "text/html": [
       "<div>\n",
       "<style scoped>\n",
       "    .dataframe tbody tr th:only-of-type {\n",
       "        vertical-align: middle;\n",
       "    }\n",
       "\n",
       "    .dataframe tbody tr th {\n",
       "        vertical-align: top;\n",
       "    }\n",
       "\n",
       "    .dataframe thead th {\n",
       "        text-align: right;\n",
       "    }\n",
       "</style>\n",
       "<table border=\"1\" class=\"dataframe\">\n",
       "  <thead>\n",
       "    <tr style=\"text-align: right;\">\n",
       "      <th></th>\n",
       "      <th>mix</th>\n",
       "    </tr>\n",
       "  </thead>\n",
       "  <tbody>\n",
       "    <tr>\n",
       "      <th>0</th>\n",
       "      <td>a</td>\n",
       "    </tr>\n",
       "    <tr>\n",
       "      <th>1</th>\n",
       "      <td>b</td>\n",
       "    </tr>\n",
       "    <tr>\n",
       "      <th>2</th>\n",
       "      <td>1</td>\n",
       "    </tr>\n",
       "    <tr>\n",
       "      <th>3</th>\n",
       "      <td>True</td>\n",
       "    </tr>\n",
       "  </tbody>\n",
       "</table>\n",
       "</div>"
      ],
      "text/plain": [
       "    mix\n",
       "0     a\n",
       "1     b\n",
       "2     1\n",
       "3  True"
      ]
     },
     "execution_count": 34,
     "metadata": {},
     "output_type": "execute_result"
    }
   ],
   "source": [
    "df_test.head()"
   ]
  },
  {
   "cell_type": "code",
   "execution_count": 35,
   "id": "e5c72080-6369-441b-a2a5-b826477bb283",
   "metadata": {},
   "outputs": [
    {
     "name": "stdout",
     "output_type": "stream",
     "text": [
      "mix\n"
     ]
    },
    {
     "name": "stderr",
     "output_type": "stream",
     "text": [
      "/var/folders/bx/glkbqc4x44qdk4_cp2ssyhl00000gn/T/ipykernel_14432/3924584600.py:4: FutureWarning: DataFrame.applymap has been deprecated. Use DataFrame.map instead.\n",
      "  weird = (df_test[[col]].applymap(type) != df_test[[col]].iloc[0].apply(type)).any(axis = 1)\n"
     ]
    }
   ],
   "source": [
    "#check for mixed tape \n",
    "\n",
    "for col in df_test.columns.tolist():\n",
    "  weird = (df_test[[col]].applymap(type) != df_test[[col]].iloc[0].apply(type)).any(axis = 1)\n",
    "  if len (df_test[weird]) > 0:\n",
    "    print (col)"
   ]
  },
  {
   "cell_type": "code",
   "execution_count": 39,
   "id": "3ce0b971-dfab-459f-a4ce-741ff9847bda",
   "metadata": {},
   "outputs": [
    {
     "ename": "NameError",
     "evalue": "name 'df_prods_clean' is not defined",
     "output_type": "error",
     "traceback": [
      "\u001b[0;31m---------------------------------------------------------------------------\u001b[0m",
      "\u001b[0;31mNameError\u001b[0m                                 Traceback (most recent call last)",
      "Cell \u001b[0;32mIn[39], line 1\u001b[0m\n\u001b[0;32m----> 1\u001b[0m df_prods_clean_no_dups \u001b[38;5;241m=\u001b[39m df_prods_clean\u001b[38;5;241m.\u001b[39mdrop_duplicates()\n\u001b[1;32m      2\u001b[0m df_prod_clean_no_dups\u001b[38;5;241m.\u001b[39mshape\n",
      "\u001b[0;31mNameError\u001b[0m: name 'df_prods_clean' is not defined"
     ]
    }
   ],
   "source": [
    "\n",
    "df_prods_clean_no_dups = df_prods_clean.drop_duplicates()\n",
    "df_prod_clean_no_dups.shape\n"
   ]
  },
  {
   "cell_type": "code",
   "execution_count": 36,
   "id": "e904f2cd-8d2b-49be-a3c1-9c2bbbcd5a07",
   "metadata": {},
   "outputs": [],
   "source": [
    "#Converted the mixed column to string with:\n",
    "df_test['mix'] = df_test['mix'].astype('str')\n"
   ]
  },
  {
   "cell_type": "code",
   "execution_count": 8,
   "id": "3166fa94-679f-4035-abbe-7a4f763ea7ff",
   "metadata": {},
   "outputs": [],
   "source": [
    "## Step 2: Import product and order data for consistency checks\n",
    "\n",
    "# Load products.csv\n",
    "df_prods = pd.read_csv('/Users/am/Desktop/CF Data Analysis essentials /2_Data Analytics Immersions_2 von 3/4 Phyton/4.4/departments_wrangled.csv')\n",
    "\n",
    "# Load orders_wrangled.csv\n",
    "df_ords = pd.read_csv('/Users/am/Desktop/CF Data Analysis essentials /2_Data Analytics Immersions_2 von 3/4 Phyton/4.4/orders_wrangled.csv')"
   ]
  },
  {
   "cell_type": "code",
   "execution_count": 37,
   "id": "af7ac0c3-ed63-44f4-a7bc-cec4bd9cc9b2",
   "metadata": {},
   "outputs": [
    {
     "ename": "NameError",
     "evalue": "name 'df_prods' is not defined",
     "output_type": "error",
     "traceback": [
      "\u001b[0;31m---------------------------------------------------------------------------\u001b[0m",
      "\u001b[0;31mNameError\u001b[0m                                 Traceback (most recent call last)",
      "Cell \u001b[0;32mIn[37], line 3\u001b[0m\n\u001b[1;32m      1\u001b[0m \u001b[38;5;66;03m#missing value check\u001b[39;00m\n\u001b[0;32m----> 3\u001b[0m df_prods\u001b[38;5;241m.\u001b[39misnull()\u001b[38;5;241m.\u001b[39msum()\n",
      "\u001b[0;31mNameError\u001b[0m: name 'df_prods' is not defined"
     ]
    }
   ],
   "source": [
    "#missing value check\n",
    "\n",
    "df_prods.isnull().sum()"
   ]
  },
  {
   "cell_type": "code",
   "execution_count": 24,
   "id": "b7605d59-c4f6-485e-959a-057a7acb5549",
   "metadata": {},
   "outputs": [
    {
     "ename": "NameError",
     "evalue": "name 'df_prods' is not defined",
     "output_type": "error",
     "traceback": [
      "\u001b[0;31m---------------------------------------------------------------------------\u001b[0m",
      "\u001b[0;31mNameError\u001b[0m                                 Traceback (most recent call last)",
      "Cell \u001b[0;32mIn[24], line 1\u001b[0m\n\u001b[0;32m----> 1\u001b[0m df_prods\u001b[38;5;241m.\u001b[39misnull()\u001b[38;5;241m.\u001b[39msum()\n\u001b[1;32m      2\u001b[0m df_ords\u001b[38;5;241m.\u001b[39misnull()\u001b[38;5;241m.\u001b[39msum()\n",
      "\u001b[0;31mNameError\u001b[0m: name 'df_prods' is not defined"
     ]
    }
   ],
   "source": [
    "df_prods.isnull().sum()\n",
    "df_ords.isnull().sum()"
   ]
  },
  {
   "cell_type": "code",
   "execution_count": 26,
   "id": "c48aa32c-5264-4535-9942-ef69911e159c",
   "metadata": {},
   "outputs": [],
   "source": [
    "#There are 206,209 missing values in the days_since_prior_order column.All other columns have zero missing values."
   ]
  },
  {
   "cell_type": "code",
   "execution_count": 25,
   "id": "7e093c92-db65-4af1-9e2a-86756638feb2",
   "metadata": {},
   "outputs": [
    {
     "ename": "NameError",
     "evalue": "name 'df_ords' is not defined",
     "output_type": "error",
     "traceback": [
      "\u001b[0;31m---------------------------------------------------------------------------\u001b[0m",
      "\u001b[0;31mNameError\u001b[0m                                 Traceback (most recent call last)",
      "Cell \u001b[0;32mIn[25], line 4\u001b[0m\n\u001b[1;32m      1\u001b[0m \u001b[38;5;66;03m#Check for Mixed-Type Columns \u001b[39;00m\n\u001b[0;32m----> 4\u001b[0m df_ords\u001b[38;5;241m.\u001b[39mdescribe()\n",
      "\u001b[0;31mNameError\u001b[0m: name 'df_ords' is not defined"
     ]
    }
   ],
   "source": [
    "#Check for Mixed-Type Columns \n",
    "\n",
    "\n",
    "df_ords.describe()"
   ]
  },
  {
   "cell_type": "code",
   "execution_count": 26,
   "id": "76a9a4fc-01f6-472d-a915-f164d221bf8c",
   "metadata": {},
   "outputs": [
    {
     "ename": "NameError",
     "evalue": "name 'df_ords' is not defined",
     "output_type": "error",
     "traceback": [
      "\u001b[0;31m---------------------------------------------------------------------------\u001b[0m",
      "\u001b[0;31mNameError\u001b[0m                                 Traceback (most recent call last)",
      "Cell \u001b[0;32mIn[26], line 2\u001b[0m\n\u001b[1;32m      1\u001b[0m \u001b[38;5;66;03m#I Create a flag column - this keeps the original column unchanged):\u001b[39;00m\n\u001b[0;32m----> 2\u001b[0m df_ords[\u001b[38;5;124m'\u001b[39m\u001b[38;5;124mfirst_order\u001b[39m\u001b[38;5;124m'\u001b[39m] \u001b[38;5;241m=\u001b[39m df_ords[\u001b[38;5;124m'\u001b[39m\u001b[38;5;124mdays_since_prior_order\u001b[39m\u001b[38;5;124m'\u001b[39m]\u001b[38;5;241m.\u001b[39misnull()\n",
      "\u001b[0;31mNameError\u001b[0m: name 'df_ords' is not defined"
     ]
    }
   ],
   "source": [
    "#I Create a flag column - this keeps the original column unchanged):\n",
    "df_ords['first_order'] = df_ords['days_since_prior_order'].isnull()\n"
   ]
  },
  {
   "cell_type": "code",
   "execution_count": 27,
   "id": "16b301ca-caaf-4ce6-a160-ba7ff3ed8870",
   "metadata": {},
   "outputs": [
    {
     "ename": "NameError",
     "evalue": "name 'df_ords' is not defined",
     "output_type": "error",
     "traceback": [
      "\u001b[0;31m---------------------------------------------------------------------------\u001b[0m",
      "\u001b[0;31mNameError\u001b[0m                                 Traceback (most recent call last)",
      "Cell \u001b[0;32mIn[27], line 1\u001b[0m\n\u001b[0;32m----> 1\u001b[0m \u001b[38;5;28;01mfor\u001b[39;00m col \u001b[38;5;129;01min\u001b[39;00m df_ords\u001b[38;5;241m.\u001b[39mcolumns:\n\u001b[1;32m      2\u001b[0m     types \u001b[38;5;241m=\u001b[39m df_ords[col]\u001b[38;5;241m.\u001b[39mapply(\u001b[38;5;28mtype\u001b[39m)\u001b[38;5;241m.\u001b[39mnunique()\n\u001b[1;32m      3\u001b[0m     \u001b[38;5;28;01mif\u001b[39;00m types \u001b[38;5;241m>\u001b[39m \u001b[38;5;241m1\u001b[39m:\n",
      "\u001b[0;31mNameError\u001b[0m: name 'df_ords' is not defined"
     ]
    }
   ],
   "source": [
    "for col in df_ords.columns:\n",
    "    types = df_ords[col].apply(type).nunique()\n",
    "    if types > 1:\n",
    "        print(f\"Column '{col}' has {types} data types.\")"
   ]
  },
  {
   "cell_type": "code",
   "execution_count": 28,
   "id": "f1defccb-67ef-4816-8f6c-890668f7d248",
   "metadata": {},
   "outputs": [
    {
     "ename": "NameError",
     "evalue": "name 'df_ords' is not defined",
     "output_type": "error",
     "traceback": [
      "\u001b[0;31m---------------------------------------------------------------------------\u001b[0m",
      "\u001b[0;31mNameError\u001b[0m                                 Traceback (most recent call last)",
      "Cell \u001b[0;32mIn[28], line 2\u001b[0m\n\u001b[1;32m      1\u001b[0m \u001b[38;5;66;03m# Find full duplicate rows\u001b[39;00m\n\u001b[0;32m----> 2\u001b[0m df_dups \u001b[38;5;241m=\u001b[39m df_ords[df_ords\u001b[38;5;241m.\u001b[39mduplicated()]\n\u001b[1;32m      4\u001b[0m \u001b[38;5;66;03m# Check how many duplicates there are\u001b[39;00m\n\u001b[1;32m      5\u001b[0m \u001b[38;5;28mprint\u001b[39m(\u001b[38;5;124mf\u001b[39m\u001b[38;5;124m\"\u001b[39m\u001b[38;5;124mNumber of duplicate rows: \u001b[39m\u001b[38;5;132;01m{\u001b[39;00mdf_dups\u001b[38;5;241m.\u001b[39mshape[\u001b[38;5;241m0\u001b[39m]\u001b[38;5;132;01m}\u001b[39;00m\u001b[38;5;124m\"\u001b[39m)\n",
      "\u001b[0;31mNameError\u001b[0m: name 'df_ords' is not defined"
     ]
    }
   ],
   "source": [
    "# Find full duplicate rows\n",
    "df_dups = df_ords[df_ords.duplicated()]\n",
    "\n",
    "# Check how many duplicates there are\n",
    "print(f\"Number of duplicate rows: {df_dups.shape[0]}\")"
   ]
  },
  {
   "cell_type": "code",
   "execution_count": 15,
   "id": "facfd816-2462-45d5-8851-3c854b499e8e",
   "metadata": {},
   "outputs": [],
   "source": [
    "new_folder_path = '/Users/am/Desktop/CF Data Analysis essentials /2_Data Analytics Immersions_2 von 3/4 Phyton/new 4.5'"
   ]
  },
  {
   "cell_type": "code",
   "execution_count": 29,
   "id": "fd459854-9099-4591-aa9a-da0bbe1e883b",
   "metadata": {},
   "outputs": [
    {
     "ename": "NameError",
     "evalue": "name 'df_prods' is not defined",
     "output_type": "error",
     "traceback": [
      "\u001b[0;31m---------------------------------------------------------------------------\u001b[0m",
      "\u001b[0;31mNameError\u001b[0m                                 Traceback (most recent call last)",
      "Cell \u001b[0;32mIn[29], line 2\u001b[0m\n\u001b[1;32m      1\u001b[0m \u001b[38;5;66;03m# Export the dataframes as CSV to the new folder\u001b[39;00m\n\u001b[0;32m----> 2\u001b[0m df_prods\u001b[38;5;241m.\u001b[39mto_csv(os\u001b[38;5;241m.\u001b[39mpath\u001b[38;5;241m.\u001b[39mjoin(new_folder_path, \u001b[38;5;124m'\u001b[39m\u001b[38;5;124mdepartments_wrangled.csv\u001b[39m\u001b[38;5;124m'\u001b[39m), index\u001b[38;5;241m=\u001b[39m\u001b[38;5;28;01mFalse\u001b[39;00m)\n\u001b[1;32m      3\u001b[0m df_ords\u001b[38;5;241m.\u001b[39mto_csv(os\u001b[38;5;241m.\u001b[39mpath\u001b[38;5;241m.\u001b[39mjoin(new_folder_path, \u001b[38;5;124m'\u001b[39m\u001b[38;5;124morders_wrangled.csv\u001b[39m\u001b[38;5;124m'\u001b[39m), index\u001b[38;5;241m=\u001b[39m\u001b[38;5;28;01mFalse\u001b[39;00m)\n\u001b[1;32m      5\u001b[0m \u001b[38;5;28mprint\u001b[39m(\u001b[38;5;124m\"\u001b[39m\u001b[38;5;124mFiles exported successfully!\u001b[39m\u001b[38;5;124m\"\u001b[39m)\n",
      "\u001b[0;31mNameError\u001b[0m: name 'df_prods' is not defined"
     ]
    }
   ],
   "source": [
    "# Export the dataframes as CSV to the new folder\n",
    "df_prods.to_csv(os.path.join(new_folder_path, 'departments_wrangled.csv'), index=False)\n",
    "df_ords.to_csv(os.path.join(new_folder_path, 'orders_wrangled.csv'), index=False)\n",
    "\n",
    "print(\"Files exported successfully!\")"
   ]
  },
  {
   "cell_type": "code",
   "execution_count": null,
   "id": "48f621e7-fc61-460c-8e21-0062131261f4",
   "metadata": {},
   "outputs": [],
   "source": []
  }
 ],
 "metadata": {
  "kernelspec": {
   "display_name": "Python 3 (ipykernel)",
   "language": "python",
   "name": "python3"
  },
  "language_info": {
   "codemirror_mode": {
    "name": "ipython",
    "version": 3
   },
   "file_extension": ".py",
   "mimetype": "text/x-python",
   "name": "python",
   "nbconvert_exporter": "python",
   "pygments_lexer": "ipython3",
   "version": "3.11.7"
  }
 },
 "nbformat": 4,
 "nbformat_minor": 5
}
