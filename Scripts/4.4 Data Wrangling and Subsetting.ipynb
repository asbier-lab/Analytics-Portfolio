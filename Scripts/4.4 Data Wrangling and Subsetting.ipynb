{
 "cells": [
  {
   "cell_type": "code",
   "execution_count": 1,
   "id": "3f020b84-420e-4a24-b8d7-d8f88110f241",
   "metadata": {},
   "outputs": [
    {
     "name": "stdout",
     "output_type": "stream",
     "text": [
      "['CF Data Analysis essentials', 'Screenshot 2025-10-08 at 17.18.57.png', 'Screenshot 2025-10-07 at 15.53.03.png', 'departments_wrangled_test.csv', 'Screenshot 2025-10-07 at 10.26.41.png', 'Screenshot 2025-10-06 at 15.38.17.png', 'orders.csv', '.DS_Store', 'Screenshot 2025-10-08 at 17.18.53.png', 'CF Data Analysis essentials ', 'products_clean.pkl', '.localized', 'Screenshot 2025-10-08 at 09.39.49.png', 'Screenshot 2025-10-06 at 12.59.16.png', 'orders_wrangled_test.csv', 'Screenshot 2025-10-08 at 17.22.31.png', 'Screenshot 2025-10-06 at 09.17.49.png', 'Screenshot 2025-10-08 at 09.39.58.png', 'Screenshot 2025-10-04 at 09.09.42.png', 'Screenshot 2025-10-08 at 17.16.22.png', 'Screenshot 2025-10-09 at 15.29.09.png', 'ords_prods_merge_final.pkl', 'CF Career Path', 'products_clean.pkl 2', 'Screenshot 2025-10-06 at 15.22.25.png', 'Screenshot 2025-10-08 at 17.32.00.png', 'Screenshot 2025-10-04 at 18.58.36.png', 'Screenshot 2025-10-08 at 17.16.17.png', 'Screenshot 2025-10-08 at 17.15.34.png', 'Screenshot 2025-10-06 at 11.21.57.png', 'Screenshot 2025-10-06 at 13.42.00.png', 'Screenshot 2025-10-04 at 19.34.58.png', 'Screenshot 2025-10-06 at 16.28.29.png']\n"
     ]
    }
   ],
   "source": [
    "import pandas as pd\n",
    "import os\n",
    "\n",
    "df = pd.read_csv(r'/Users/am/Desktop/CF Data Analysis essentials /2_Data Analytics Immersions_2 von 3/4 Phyton/4.3/4.3_orders_products/orders.csv', index_col=False)\n",
    "print(os.listdir('/Users/am/Desktop'))\n",
    "\n"
   ]
  },
  {
   "cell_type": "code",
   "execution_count": 3,
   "id": "4035fe59-25e8-4166-88c2-ae2b9dde839e",
   "metadata": {},
   "outputs": [],
   "source": [
    "path = r'/Users/am/Desktop/CF Data Analysis essentials /2_Data Analytics Immersions_2 von 3/4 Phyton/4.3/4.3_orders_products'"
   ]
  },
  {
   "cell_type": "code",
   "execution_count": 4,
   "id": "541a395e-9e10-46c8-ba2f-0eccaf97885d",
   "metadata": {},
   "outputs": [
    {
     "name": "stdout",
     "output_type": "stream",
     "text": [
      "Shape von df_orders: (3421083, 7)\n",
      "Shape von df_prods: (49693, 5)\n"
     ]
    }
   ],
   "source": [
    "\n",
    "# DataFrames laden\n",
    "df_orders = pd.read_csv(os.path.join(path, 'orders.csv'))\n",
    "df_prods = pd.read_csv(os.path.join(path, 'products.csv'))\n",
    "\n",
    "# Shape ausgeben\n",
    "print(\"Shape von df_orders:\", df_orders.shape)\n",
    "print(\"Shape von df_prods:\", df_prods.shape)\n"
   ]
  },
  {
   "cell_type": "code",
   "execution_count": 5,
   "id": "ccc26307-dbf1-4f58-ae3a-d9d0a38344f4",
   "metadata": {},
   "outputs": [
    {
     "name": "stdout",
     "output_type": "stream",
     "text": [
      "['order_id', 'user_id', 'eval_set', 'order_number', 'order_dow', 'order_hour_of_day', 'days_since_prior_order']\n"
     ]
    }
   ],
   "source": [
    "print(df_orders.columns.tolist())"
   ]
  },
  {
   "cell_type": "code",
   "execution_count": 6,
   "id": "dfbf9fd2-8178-43b2-a26a-ac378cc6784b",
   "metadata": {},
   "outputs": [],
   "source": [
    "# Drop a column\n",
    "df_orders = df_orders.drop(columns=['eval_set'])"
   ]
  },
  {
   "cell_type": "code",
   "execution_count": 11,
   "id": "c7d9e752-6272-4f4d-8a16-9c3bca3dbbeb",
   "metadata": {},
   "outputs": [
    {
     "name": "stdout",
     "output_type": "stream",
     "text": [
      "['order_id', 'user_id', 'order_number', 'order_dow', 'order_hour_of_day', 'days_since_prior_order']\n"
     ]
    }
   ],
   "source": [
    "print(df_orders.columns.tolist())"
   ]
  },
  {
   "cell_type": "code",
   "execution_count": 7,
   "id": "b0d86d94-3765-4cf4-a8d5-2b2f1aabba38",
   "metadata": {},
   "outputs": [
    {
     "name": "stdout",
     "output_type": "stream",
     "text": [
      "'eval_set' column not found — skipping drop.\n"
     ]
    }
   ],
   "source": [
    "if 'eval_set' in df_orders.columns:\n",
    "    df_orders = df_orders.drop(columns=['eval_set'])\n",
    "else:\n",
    "    print(\"'eval_set' column not found — skipping drop.\")"
   ]
  },
  {
   "cell_type": "code",
   "execution_count": 8,
   "id": "22cc9585-c942-4976-8be6-f8e5101255f4",
   "metadata": {},
   "outputs": [
    {
     "name": "stdout",
     "output_type": "stream",
     "text": [
      "   order_id  user_id  order_number  order_dow  order_hour_of_day  \\\n",
      "0   2539329        1             1          2                  8   \n",
      "1   2398795        1             2          3                  7   \n",
      "2    473747        1             3          3                 12   \n",
      "3   2254736        1             4          4                  7   \n",
      "4    431534        1             5          4                 15   \n",
      "\n",
      "   days_since_prior_order  \n",
      "0                     NaN  \n",
      "1                    15.0  \n",
      "2                    21.0  \n",
      "3                    29.0  \n",
      "4                    28.0  \n"
     ]
    }
   ],
   "source": [
    "print(df_orders.head())"
   ]
  },
  {
   "cell_type": "code",
   "execution_count": 9,
   "id": "6f29fb80-ea39-4599-91f5-6ac6cf610335",
   "metadata": {},
   "outputs": [
    {
     "name": "stdout",
     "output_type": "stream",
     "text": [
      "object\n"
     ]
    }
   ],
   "source": [
    "df_orders.rename(columns={'order_dow': 'orders_day_of_week'}, inplace=True)\n",
    "\n",
    "df_orders['order_id'] = df_orders['order_id'].astype('str')\n",
    "\n",
    "print(df_orders['order_id'].dtype)"
   ]
  },
  {
   "cell_type": "code",
   "execution_count": 10,
   "id": "02653447-3e57-43c6-937f-707298e55de3",
   "metadata": {},
   "outputs": [
    {
     "name": "stdout",
     "output_type": "stream",
     "text": [
      "0    2539329\n",
      "1    2398795\n",
      "2     473747\n",
      "3    2254736\n",
      "4     431534\n",
      "Name: order_id, dtype: object\n",
      "object\n"
     ]
    }
   ],
   "source": [
    "print(df_orders['order_id'].head())\n",
    "print(df_orders['order_id'].dtype)"
   ]
  },
  {
   "cell_type": "code",
   "execution_count": 15,
   "id": "46f782b1-71c7-4dec-8d54-9320df48868d",
   "metadata": {},
   "outputs": [
    {
     "data": {
      "text/plain": [
       "days_since_prior_order\n",
       "30.0    369323\n",
       "7.0     320608\n",
       "6.0     240013\n",
       "4.0     221696\n",
       "3.0     217005\n",
       "5.0     214503\n",
       "NaN     206209\n",
       "2.0     193206\n",
       "8.0     181717\n",
       "1.0     145247\n",
       "9.0     118188\n",
       "14.0    100230\n",
       "10.0     95186\n",
       "13.0     83214\n",
       "11.0     80970\n",
       "12.0     76146\n",
       "0.0      67755\n",
       "15.0     66579\n",
       "16.0     46941\n",
       "21.0     45470\n",
       "17.0     39245\n",
       "20.0     38527\n",
       "18.0     35881\n",
       "19.0     34384\n",
       "22.0     32012\n",
       "28.0     26777\n",
       "23.0     23885\n",
       "27.0     22013\n",
       "24.0     20712\n",
       "25.0     19234\n",
       "29.0     19191\n",
       "26.0     19016\n",
       "Name: count, dtype: int64"
      ]
     },
     "execution_count": 15,
     "metadata": {},
     "output_type": "execute_result"
    }
   ],
   "source": [
    "df_orders['days_since_prior_order'].value_counts(dropna=False)\n"
   ]
  },
  {
   "cell_type": "code",
   "execution_count": 11,
   "id": "2630d23b-1ce5-41ec-b454-41cc4c30d943",
   "metadata": {},
   "outputs": [
    {
     "name": "stdout",
     "output_type": "stream",
     "text": [
      "order_hour_of_day\n",
      "0      22758\n",
      "1      12398\n",
      "2       7539\n",
      "3       5474\n",
      "4       5527\n",
      "5       9569\n",
      "6      30529\n",
      "7      91868\n",
      "8     178201\n",
      "9     257812\n",
      "10    288418\n",
      "11    284728\n",
      "12    272841\n",
      "13    277999\n",
      "14    283042\n",
      "15    283639\n",
      "16    272553\n",
      "17    228795\n",
      "18    182912\n",
      "19    140569\n",
      "20    104292\n",
      "21     78109\n",
      "22     61468\n",
      "23     40043\n",
      "Name: count, dtype: int64\n",
      "The busiest order hour is 10 with 288418 orders.\n"
     ]
    }
   ],
   "source": [
    "# frequency of orders by hour\n",
    "hour_counts = df_orders['order_hour_of_day'].value_counts().sort_index()\n",
    "\n",
    "print(hour_counts)\n",
    "\n",
    "# the busiest hour\n",
    "busiest_hour = hour_counts.idxmax()\n",
    "busiest_count = hour_counts.max()\n",
    "\n",
    "print(f\"The busiest order hour is {busiest_hour} with {busiest_count} orders.\")"
   ]
  },
  {
   "cell_type": "code",
   "execution_count": 18,
   "id": "1896b71b-d667-411c-905f-ce7b875a850f",
   "metadata": {},
   "outputs": [
    {
     "ename": "FileNotFoundError",
     "evalue": "[Errno 2] No such file or directory: '/Users/am/Desktop/CF Data Analysis essentials /2_Data Analytics Immersions_2 von 3/4 Phyton Theory/4.4/departments.csv'",
     "output_type": "error",
     "traceback": [
      "\u001b[0;31m---------------------------------------------------------------------------\u001b[0m",
      "\u001b[0;31mFileNotFoundError\u001b[0m                         Traceback (most recent call last)",
      "Cell \u001b[0;32mIn[18], line 5\u001b[0m\n\u001b[1;32m      2\u001b[0m path_4_4 \u001b[38;5;241m=\u001b[39m \u001b[38;5;124mr\u001b[39m\u001b[38;5;124m'\u001b[39m\u001b[38;5;124m/Users/am/Desktop/CF Data Analysis essentials /2_Data Analytics Immersions_2 von 3/4 Phyton Theory/4.4\u001b[39m\u001b[38;5;124m'\u001b[39m\n\u001b[1;32m      4\u001b[0m \u001b[38;5;66;03m# Load departments.csv\u001b[39;00m\n\u001b[0;32m----> 5\u001b[0m df_dep \u001b[38;5;241m=\u001b[39m pd\u001b[38;5;241m.\u001b[39mread_csv(os\u001b[38;5;241m.\u001b[39mpath\u001b[38;5;241m.\u001b[39mjoin(path_4_4, \u001b[38;5;124m'\u001b[39m\u001b[38;5;124mdepartments.csv\u001b[39m\u001b[38;5;124m'\u001b[39m), index_col\u001b[38;5;241m=\u001b[39m\u001b[38;5;28;01mFalse\u001b[39;00m)\n\u001b[1;32m      7\u001b[0m \u001b[38;5;66;03m# Check shape\u001b[39;00m\n\u001b[1;32m      8\u001b[0m \u001b[38;5;28mprint\u001b[39m(df_dep\u001b[38;5;241m.\u001b[39mshape)\n",
      "File \u001b[0;32m~/anaconda3/lib/python3.11/site-packages/pandas/io/parsers/readers.py:948\u001b[0m, in \u001b[0;36mread_csv\u001b[0;34m(filepath_or_buffer, sep, delimiter, header, names, index_col, usecols, dtype, engine, converters, true_values, false_values, skipinitialspace, skiprows, skipfooter, nrows, na_values, keep_default_na, na_filter, verbose, skip_blank_lines, parse_dates, infer_datetime_format, keep_date_col, date_parser, date_format, dayfirst, cache_dates, iterator, chunksize, compression, thousands, decimal, lineterminator, quotechar, quoting, doublequote, escapechar, comment, encoding, encoding_errors, dialect, on_bad_lines, delim_whitespace, low_memory, memory_map, float_precision, storage_options, dtype_backend)\u001b[0m\n\u001b[1;32m    935\u001b[0m kwds_defaults \u001b[38;5;241m=\u001b[39m _refine_defaults_read(\n\u001b[1;32m    936\u001b[0m     dialect,\n\u001b[1;32m    937\u001b[0m     delimiter,\n\u001b[0;32m   (...)\u001b[0m\n\u001b[1;32m    944\u001b[0m     dtype_backend\u001b[38;5;241m=\u001b[39mdtype_backend,\n\u001b[1;32m    945\u001b[0m )\n\u001b[1;32m    946\u001b[0m kwds\u001b[38;5;241m.\u001b[39mupdate(kwds_defaults)\n\u001b[0;32m--> 948\u001b[0m \u001b[38;5;28;01mreturn\u001b[39;00m _read(filepath_or_buffer, kwds)\n",
      "File \u001b[0;32m~/anaconda3/lib/python3.11/site-packages/pandas/io/parsers/readers.py:611\u001b[0m, in \u001b[0;36m_read\u001b[0;34m(filepath_or_buffer, kwds)\u001b[0m\n\u001b[1;32m    608\u001b[0m _validate_names(kwds\u001b[38;5;241m.\u001b[39mget(\u001b[38;5;124m\"\u001b[39m\u001b[38;5;124mnames\u001b[39m\u001b[38;5;124m\"\u001b[39m, \u001b[38;5;28;01mNone\u001b[39;00m))\n\u001b[1;32m    610\u001b[0m \u001b[38;5;66;03m# Create the parser.\u001b[39;00m\n\u001b[0;32m--> 611\u001b[0m parser \u001b[38;5;241m=\u001b[39m TextFileReader(filepath_or_buffer, \u001b[38;5;241m*\u001b[39m\u001b[38;5;241m*\u001b[39mkwds)\n\u001b[1;32m    613\u001b[0m \u001b[38;5;28;01mif\u001b[39;00m chunksize \u001b[38;5;129;01mor\u001b[39;00m iterator:\n\u001b[1;32m    614\u001b[0m     \u001b[38;5;28;01mreturn\u001b[39;00m parser\n",
      "File \u001b[0;32m~/anaconda3/lib/python3.11/site-packages/pandas/io/parsers/readers.py:1448\u001b[0m, in \u001b[0;36mTextFileReader.__init__\u001b[0;34m(self, f, engine, **kwds)\u001b[0m\n\u001b[1;32m   1445\u001b[0m     \u001b[38;5;28mself\u001b[39m\u001b[38;5;241m.\u001b[39moptions[\u001b[38;5;124m\"\u001b[39m\u001b[38;5;124mhas_index_names\u001b[39m\u001b[38;5;124m\"\u001b[39m] \u001b[38;5;241m=\u001b[39m kwds[\u001b[38;5;124m\"\u001b[39m\u001b[38;5;124mhas_index_names\u001b[39m\u001b[38;5;124m\"\u001b[39m]\n\u001b[1;32m   1447\u001b[0m \u001b[38;5;28mself\u001b[39m\u001b[38;5;241m.\u001b[39mhandles: IOHandles \u001b[38;5;241m|\u001b[39m \u001b[38;5;28;01mNone\u001b[39;00m \u001b[38;5;241m=\u001b[39m \u001b[38;5;28;01mNone\u001b[39;00m\n\u001b[0;32m-> 1448\u001b[0m \u001b[38;5;28mself\u001b[39m\u001b[38;5;241m.\u001b[39m_engine \u001b[38;5;241m=\u001b[39m \u001b[38;5;28mself\u001b[39m\u001b[38;5;241m.\u001b[39m_make_engine(f, \u001b[38;5;28mself\u001b[39m\u001b[38;5;241m.\u001b[39mengine)\n",
      "File \u001b[0;32m~/anaconda3/lib/python3.11/site-packages/pandas/io/parsers/readers.py:1705\u001b[0m, in \u001b[0;36mTextFileReader._make_engine\u001b[0;34m(self, f, engine)\u001b[0m\n\u001b[1;32m   1703\u001b[0m     \u001b[38;5;28;01mif\u001b[39;00m \u001b[38;5;124m\"\u001b[39m\u001b[38;5;124mb\u001b[39m\u001b[38;5;124m\"\u001b[39m \u001b[38;5;129;01mnot\u001b[39;00m \u001b[38;5;129;01min\u001b[39;00m mode:\n\u001b[1;32m   1704\u001b[0m         mode \u001b[38;5;241m+\u001b[39m\u001b[38;5;241m=\u001b[39m \u001b[38;5;124m\"\u001b[39m\u001b[38;5;124mb\u001b[39m\u001b[38;5;124m\"\u001b[39m\n\u001b[0;32m-> 1705\u001b[0m \u001b[38;5;28mself\u001b[39m\u001b[38;5;241m.\u001b[39mhandles \u001b[38;5;241m=\u001b[39m get_handle(\n\u001b[1;32m   1706\u001b[0m     f,\n\u001b[1;32m   1707\u001b[0m     mode,\n\u001b[1;32m   1708\u001b[0m     encoding\u001b[38;5;241m=\u001b[39m\u001b[38;5;28mself\u001b[39m\u001b[38;5;241m.\u001b[39moptions\u001b[38;5;241m.\u001b[39mget(\u001b[38;5;124m\"\u001b[39m\u001b[38;5;124mencoding\u001b[39m\u001b[38;5;124m\"\u001b[39m, \u001b[38;5;28;01mNone\u001b[39;00m),\n\u001b[1;32m   1709\u001b[0m     compression\u001b[38;5;241m=\u001b[39m\u001b[38;5;28mself\u001b[39m\u001b[38;5;241m.\u001b[39moptions\u001b[38;5;241m.\u001b[39mget(\u001b[38;5;124m\"\u001b[39m\u001b[38;5;124mcompression\u001b[39m\u001b[38;5;124m\"\u001b[39m, \u001b[38;5;28;01mNone\u001b[39;00m),\n\u001b[1;32m   1710\u001b[0m     memory_map\u001b[38;5;241m=\u001b[39m\u001b[38;5;28mself\u001b[39m\u001b[38;5;241m.\u001b[39moptions\u001b[38;5;241m.\u001b[39mget(\u001b[38;5;124m\"\u001b[39m\u001b[38;5;124mmemory_map\u001b[39m\u001b[38;5;124m\"\u001b[39m, \u001b[38;5;28;01mFalse\u001b[39;00m),\n\u001b[1;32m   1711\u001b[0m     is_text\u001b[38;5;241m=\u001b[39mis_text,\n\u001b[1;32m   1712\u001b[0m     errors\u001b[38;5;241m=\u001b[39m\u001b[38;5;28mself\u001b[39m\u001b[38;5;241m.\u001b[39moptions\u001b[38;5;241m.\u001b[39mget(\u001b[38;5;124m\"\u001b[39m\u001b[38;5;124mencoding_errors\u001b[39m\u001b[38;5;124m\"\u001b[39m, \u001b[38;5;124m\"\u001b[39m\u001b[38;5;124mstrict\u001b[39m\u001b[38;5;124m\"\u001b[39m),\n\u001b[1;32m   1713\u001b[0m     storage_options\u001b[38;5;241m=\u001b[39m\u001b[38;5;28mself\u001b[39m\u001b[38;5;241m.\u001b[39moptions\u001b[38;5;241m.\u001b[39mget(\u001b[38;5;124m\"\u001b[39m\u001b[38;5;124mstorage_options\u001b[39m\u001b[38;5;124m\"\u001b[39m, \u001b[38;5;28;01mNone\u001b[39;00m),\n\u001b[1;32m   1714\u001b[0m )\n\u001b[1;32m   1715\u001b[0m \u001b[38;5;28;01massert\u001b[39;00m \u001b[38;5;28mself\u001b[39m\u001b[38;5;241m.\u001b[39mhandles \u001b[38;5;129;01mis\u001b[39;00m \u001b[38;5;129;01mnot\u001b[39;00m \u001b[38;5;28;01mNone\u001b[39;00m\n\u001b[1;32m   1716\u001b[0m f \u001b[38;5;241m=\u001b[39m \u001b[38;5;28mself\u001b[39m\u001b[38;5;241m.\u001b[39mhandles\u001b[38;5;241m.\u001b[39mhandle\n",
      "File \u001b[0;32m~/anaconda3/lib/python3.11/site-packages/pandas/io/common.py:863\u001b[0m, in \u001b[0;36mget_handle\u001b[0;34m(path_or_buf, mode, encoding, compression, memory_map, is_text, errors, storage_options)\u001b[0m\n\u001b[1;32m    858\u001b[0m \u001b[38;5;28;01melif\u001b[39;00m \u001b[38;5;28misinstance\u001b[39m(handle, \u001b[38;5;28mstr\u001b[39m):\n\u001b[1;32m    859\u001b[0m     \u001b[38;5;66;03m# Check whether the filename is to be opened in binary mode.\u001b[39;00m\n\u001b[1;32m    860\u001b[0m     \u001b[38;5;66;03m# Binary mode does not support 'encoding' and 'newline'.\u001b[39;00m\n\u001b[1;32m    861\u001b[0m     \u001b[38;5;28;01mif\u001b[39;00m ioargs\u001b[38;5;241m.\u001b[39mencoding \u001b[38;5;129;01mand\u001b[39;00m \u001b[38;5;124m\"\u001b[39m\u001b[38;5;124mb\u001b[39m\u001b[38;5;124m\"\u001b[39m \u001b[38;5;129;01mnot\u001b[39;00m \u001b[38;5;129;01min\u001b[39;00m ioargs\u001b[38;5;241m.\u001b[39mmode:\n\u001b[1;32m    862\u001b[0m         \u001b[38;5;66;03m# Encoding\u001b[39;00m\n\u001b[0;32m--> 863\u001b[0m         handle \u001b[38;5;241m=\u001b[39m \u001b[38;5;28mopen\u001b[39m(\n\u001b[1;32m    864\u001b[0m             handle,\n\u001b[1;32m    865\u001b[0m             ioargs\u001b[38;5;241m.\u001b[39mmode,\n\u001b[1;32m    866\u001b[0m             encoding\u001b[38;5;241m=\u001b[39mioargs\u001b[38;5;241m.\u001b[39mencoding,\n\u001b[1;32m    867\u001b[0m             errors\u001b[38;5;241m=\u001b[39merrors,\n\u001b[1;32m    868\u001b[0m             newline\u001b[38;5;241m=\u001b[39m\u001b[38;5;124m\"\u001b[39m\u001b[38;5;124m\"\u001b[39m,\n\u001b[1;32m    869\u001b[0m         )\n\u001b[1;32m    870\u001b[0m     \u001b[38;5;28;01melse\u001b[39;00m:\n\u001b[1;32m    871\u001b[0m         \u001b[38;5;66;03m# Binary mode\u001b[39;00m\n\u001b[1;32m    872\u001b[0m         handle \u001b[38;5;241m=\u001b[39m \u001b[38;5;28mopen\u001b[39m(handle, ioargs\u001b[38;5;241m.\u001b[39mmode)\n",
      "\u001b[0;31mFileNotFoundError\u001b[0m: [Errno 2] No such file or directory: '/Users/am/Desktop/CF Data Analysis essentials /2_Data Analytics Immersions_2 von 3/4 Phyton Theory/4.4/departments.csv'"
     ]
    }
   ],
   "source": [
    "# Define path to the 4.4 folder\n",
    "path_4_4 = r'/Users/am/Desktop/CF Data Analysis essentials /2_Data Analytics Immersions_2 von 3/4 Phyton Theory/4.4'\n",
    "\n",
    "# Load departments.csv\n",
    "df_dep = pd.read_csv(os.path.join(path_4_4, 'departments.csv'), index_col=False)\n",
    "\n",
    "# Check shape\n",
    "print(df_dep.shape)\n",
    "df_dep.head()"
   ]
  },
  {
   "cell_type": "code",
   "execution_count": 15,
   "id": "311cda51-700a-432c-b9a5-11b053ac799c",
   "metadata": {},
   "outputs": [
    {
     "ename": "NameError",
     "evalue": "name 'df_dep' is not defined",
     "output_type": "error",
     "traceback": [
      "\u001b[0;31m---------------------------------------------------------------------------\u001b[0m",
      "\u001b[0;31mNameError\u001b[0m                                 Traceback (most recent call last)",
      "Cell \u001b[0;32mIn[15], line 1\u001b[0m\n\u001b[0;32m----> 1\u001b[0m df_dep_t \u001b[38;5;241m=\u001b[39m df_dep\u001b[38;5;241m.\u001b[39mT\n",
      "\u001b[0;31mNameError\u001b[0m: name 'df_dep' is not defined"
     ]
    }
   ],
   "source": [
    "df_dep_t = df_dep.T\n"
   ]
  },
  {
   "cell_type": "code",
   "execution_count": 16,
   "id": "a32a1041-58d0-469d-8c49-7f5a6664f3be",
   "metadata": {},
   "outputs": [
    {
     "ename": "NameError",
     "evalue": "name 'df_dep_t' is not defined",
     "output_type": "error",
     "traceback": [
      "\u001b[0;31m---------------------------------------------------------------------------\u001b[0m",
      "\u001b[0;31mNameError\u001b[0m                                 Traceback (most recent call last)",
      "Cell \u001b[0;32mIn[16], line 1\u001b[0m\n\u001b[0;32m----> 1\u001b[0m df_dep_t\u001b[38;5;241m.\u001b[39mhead()\n",
      "\u001b[0;31mNameError\u001b[0m: name 'df_dep_t' is not defined"
     ]
    }
   ],
   "source": [
    "df_dep_t.head()"
   ]
  },
  {
   "cell_type": "code",
   "execution_count": 17,
   "id": "846174a4-2096-41fc-94c3-ba23e10f6efd",
   "metadata": {},
   "outputs": [
    {
     "ename": "NameError",
     "evalue": "name 'df_dep_t' is not defined",
     "output_type": "error",
     "traceback": [
      "\u001b[0;31m---------------------------------------------------------------------------\u001b[0m",
      "\u001b[0;31mNameError\u001b[0m                                 Traceback (most recent call last)",
      "Cell \u001b[0;32mIn[17], line 1\u001b[0m\n\u001b[0;32m----> 1\u001b[0m new_header \u001b[38;5;241m=\u001b[39m df_dep_t\u001b[38;5;241m.\u001b[39miloc[\u001b[38;5;241m0\u001b[39m]\n",
      "\u001b[0;31mNameError\u001b[0m: name 'df_dep_t' is not defined"
     ]
    }
   ],
   "source": [
    "new_header = df_dep_t.iloc[0]  # Get the actual header row\n"
   ]
  },
  {
   "cell_type": "code",
   "execution_count": 83,
   "id": "14f93c22-8ff6-43f9-b5f5-55713c8fb55f",
   "metadata": {},
   "outputs": [],
   "source": [
    "df_dep_t_new = df_dep_t[1:]  # Drop first row\n"
   ]
  },
  {
   "cell_type": "code",
   "execution_count": 84,
   "id": "447a24e8-9286-45d4-86e8-84ffa5d3d9f1",
   "metadata": {},
   "outputs": [],
   "source": [
    "df_dep_t_new.columns = new_header  # Set new header\n"
   ]
  },
  {
   "cell_type": "code",
   "execution_count": 85,
   "id": "54859390-cbcc-41f1-9981-310b5bd4a08d",
   "metadata": {
    "scrolled": true
   },
   "outputs": [
    {
     "data": {
      "text/html": [
       "<div>\n",
       "<style scoped>\n",
       "    .dataframe tbody tr th:only-of-type {\n",
       "        vertical-align: middle;\n",
       "    }\n",
       "\n",
       "    .dataframe tbody tr th {\n",
       "        vertical-align: top;\n",
       "    }\n",
       "\n",
       "    .dataframe thead th {\n",
       "        text-align: right;\n",
       "    }\n",
       "</style>\n",
       "<table border=\"1\" class=\"dataframe\">\n",
       "  <thead>\n",
       "    <tr style=\"text-align: right;\">\n",
       "      <th>department_id</th>\n",
       "      <th>department</th>\n",
       "    </tr>\n",
       "  </thead>\n",
       "  <tbody>\n",
       "    <tr>\n",
       "      <th>0</th>\n",
       "      <td>frozen</td>\n",
       "    </tr>\n",
       "    <tr>\n",
       "      <th>1</th>\n",
       "      <td>other</td>\n",
       "    </tr>\n",
       "    <tr>\n",
       "      <th>2</th>\n",
       "      <td>bakery</td>\n",
       "    </tr>\n",
       "    <tr>\n",
       "      <th>3</th>\n",
       "      <td>produce</td>\n",
       "    </tr>\n",
       "    <tr>\n",
       "      <th>4</th>\n",
       "      <td>alcohol</td>\n",
       "    </tr>\n",
       "  </tbody>\n",
       "</table>\n",
       "</div>"
      ],
      "text/plain": [
       "department_id department\n",
       "0                 frozen\n",
       "1                  other\n",
       "2                 bakery\n",
       "3                produce\n",
       "4                alcohol"
      ]
     },
     "execution_count": 85,
     "metadata": {},
     "output_type": "execute_result"
    }
   ],
   "source": [
    "df_dep_t_new.reset_index(drop=True, inplace=True)\n",
    "df_dep_t_new.head()"
   ]
  },
  {
   "cell_type": "code",
   "execution_count": 86,
   "id": "0408037c-9f9c-4321-837d-8f8ce3afec03",
   "metadata": {},
   "outputs": [
    {
     "data": {
      "text/plain": [
       "Index(['department'], dtype='object', name='department_id')"
      ]
     },
     "execution_count": 86,
     "metadata": {},
     "output_type": "execute_result"
    }
   ],
   "source": [
    "df_dep_t_new.columns"
   ]
  },
  {
   "cell_type": "code",
   "execution_count": 88,
   "id": "381c8ee9-ab4a-4f2d-85bd-c01188bc0e6d",
   "metadata": {},
   "outputs": [
    {
     "name": "stdout",
     "output_type": "stream",
     "text": [
      "department_id department\n",
      "0                 frozen\n",
      "1                  other\n",
      "2                 bakery\n",
      "3                produce\n",
      "4                alcohol\n",
      "department_id\n",
      "department    object\n",
      "dtype: object\n"
     ]
    }
   ],
   "source": [
    "print(df_dep_t_new.head())\n",
    "print(df_dep_t_new.dtypes)"
   ]
  },
  {
   "cell_type": "code",
   "execution_count": 89,
   "id": "5d7a58fc-aa5b-4081-9913-9f4b004bc5a7",
   "metadata": {},
   "outputs": [
    {
     "name": "stdout",
     "output_type": "stream",
     "text": [
      "Index(['department'], dtype='object', name='department_id')\n"
     ]
    }
   ],
   "source": [
    "print(df_dep_t_new.columns)\n"
   ]
  },
  {
   "cell_type": "code",
   "execution_count": 90,
   "id": "94fcaa11-5d66-4480-842b-a17a8feceba9",
   "metadata": {},
   "outputs": [
    {
     "name": "stdout",
     "output_type": "stream",
     "text": [
      "RangeIndex(start=0, stop=21, step=1)\n"
     ]
    }
   ],
   "source": [
    "print(df_dep_t_new.index)"
   ]
  },
  {
   "cell_type": "code",
   "execution_count": 95,
   "id": "59aeb46f-a8e6-486d-b4b0-a634eebc3889",
   "metadata": {},
   "outputs": [
    {
     "name": "stdout",
     "output_type": "stream",
     "text": [
      "   department_id department\n",
      "0              0     frozen\n",
      "1              1      other\n",
      "2              2     bakery\n",
      "3              3    produce\n",
      "4              4    alcohol\n"
     ]
    }
   ],
   "source": [
    "# 1. Reset index so 'department_id' becomes a column\n",
    "df_dep_t_new = df_dep_t_new.reset_index()\n",
    "\n",
    "# 2. Rename columns\n",
    "df_dep_t_new.columns = ['department_id', 'department']\n",
    "\n",
    "# 3. Check your fix\n",
    "print(df_dep_t_new.head())"
   ]
  },
  {
   "cell_type": "code",
   "execution_count": 96,
   "id": "d7c17e54-3087-4ca3-81a9-a4d22d7d8e01",
   "metadata": {},
   "outputs": [
    {
     "data": {
      "text/html": [
       "<div>\n",
       "<style scoped>\n",
       "    .dataframe tbody tr th:only-of-type {\n",
       "        vertical-align: middle;\n",
       "    }\n",
       "\n",
       "    .dataframe tbody tr th {\n",
       "        vertical-align: top;\n",
       "    }\n",
       "\n",
       "    .dataframe thead th {\n",
       "        text-align: right;\n",
       "    }\n",
       "</style>\n",
       "<table border=\"1\" class=\"dataframe\">\n",
       "  <thead>\n",
       "    <tr style=\"text-align: right;\">\n",
       "      <th></th>\n",
       "      <th>department_id</th>\n",
       "      <th>department</th>\n",
       "    </tr>\n",
       "  </thead>\n",
       "  <tbody>\n",
       "    <tr>\n",
       "      <th>4</th>\n",
       "      <td>4</td>\n",
       "      <td>alcohol</td>\n",
       "    </tr>\n",
       "  </tbody>\n",
       "</table>\n",
       "</div>"
      ],
      "text/plain": [
       "   department_id department\n",
       "4              4    alcohol"
      ]
     },
     "execution_count": 96,
     "metadata": {},
     "output_type": "execute_result"
    }
   ],
   "source": [
    "df_dep_t_new[df_dep_t_new['department_id'] == 4]"
   ]
  },
  {
   "cell_type": "code",
   "execution_count": 97,
   "id": "39ecd86e-4800-4242-82d5-43c7bd7f4e0d",
   "metadata": {},
   "outputs": [
    {
     "data": {
      "text/html": [
       "<div>\n",
       "<style scoped>\n",
       "    .dataframe tbody tr th:only-of-type {\n",
       "        vertical-align: middle;\n",
       "    }\n",
       "\n",
       "    .dataframe tbody tr th {\n",
       "        vertical-align: top;\n",
       "    }\n",
       "\n",
       "    .dataframe thead th {\n",
       "        text-align: right;\n",
       "    }\n",
       "</style>\n",
       "<table border=\"1\" class=\"dataframe\">\n",
       "  <thead>\n",
       "    <tr style=\"text-align: right;\">\n",
       "      <th></th>\n",
       "      <th>department_id</th>\n",
       "      <th>department</th>\n",
       "    </tr>\n",
       "  </thead>\n",
       "  <tbody>\n",
       "    <tr>\n",
       "      <th>13</th>\n",
       "      <td>13</td>\n",
       "      <td>breakfast</td>\n",
       "    </tr>\n",
       "  </tbody>\n",
       "</table>\n",
       "</div>"
      ],
      "text/plain": [
       "    department_id department\n",
       "13             13  breakfast"
      ]
     },
     "execution_count": 97,
     "metadata": {},
     "output_type": "execute_result"
    }
   ],
   "source": [
    "df_dep_t_new[df_dep_t_new['department'] == 'breakfast']\n"
   ]
  },
  {
   "cell_type": "code",
   "execution_count": 98,
   "id": "e80998d4-bf67-47f7-8365-5751a838db15",
   "metadata": {},
   "outputs": [],
   "source": [
    "breakfast_df = df_prods[df_prods['department_id'] == 13]\n"
   ]
  },
  {
   "cell_type": "code",
   "execution_count": 99,
   "id": "ceefe778-5fe9-434c-a9ec-091f62f47c26",
   "metadata": {},
   "outputs": [
    {
     "name": "stdout",
     "output_type": "stream",
     "text": [
      "    product_id                                   product_name  aisle_id  \\\n",
      "1            2                               All-Seasons Salt       104   \n",
      "4            5                      Green Chile Anytime Sauce         5   \n",
      "49          50                             Pumpkin Muffin Mix       105   \n",
      "64          65  Organic Red Wine & Olive Oil Dressing Organic        89   \n",
      "66          67                              Jelly, Blackberry        88   \n",
      "\n",
      "    department_id  prices  \n",
      "1              13     9.3  \n",
      "4              13     4.3  \n",
      "49             13    11.3  \n",
      "64             13    12.4  \n",
      "66             13     4.9  \n",
      "Total breakfast items: 5371\n"
     ]
    }
   ],
   "source": [
    "print(breakfast_df.head())\n",
    "print(f\"Total breakfast items: {len(breakfast_df)}\")"
   ]
  },
  {
   "cell_type": "code",
   "execution_count": 100,
   "id": "59272c95-513b-4c88-b616-f56f3cad7723",
   "metadata": {},
   "outputs": [
    {
     "data": {
      "text/html": [
       "<div>\n",
       "<style scoped>\n",
       "    .dataframe tbody tr th:only-of-type {\n",
       "        vertical-align: middle;\n",
       "    }\n",
       "\n",
       "    .dataframe tbody tr th {\n",
       "        vertical-align: top;\n",
       "    }\n",
       "\n",
       "    .dataframe thead th {\n",
       "        text-align: right;\n",
       "    }\n",
       "</style>\n",
       "<table border=\"1\" class=\"dataframe\">\n",
       "  <thead>\n",
       "    <tr style=\"text-align: right;\">\n",
       "      <th></th>\n",
       "      <th>department_id</th>\n",
       "      <th>department</th>\n",
       "    </tr>\n",
       "  </thead>\n",
       "  <tbody>\n",
       "    <tr>\n",
       "      <th>4</th>\n",
       "      <td>4</td>\n",
       "      <td>alcohol</td>\n",
       "    </tr>\n",
       "    <tr>\n",
       "      <th>6</th>\n",
       "      <td>6</td>\n",
       "      <td>beverages</td>\n",
       "    </tr>\n",
       "    <tr>\n",
       "      <th>11</th>\n",
       "      <td>11</td>\n",
       "      <td>meat seafood</td>\n",
       "    </tr>\n",
       "    <tr>\n",
       "      <th>19</th>\n",
       "      <td>19</td>\n",
       "      <td>deli</td>\n",
       "    </tr>\n",
       "  </tbody>\n",
       "</table>\n",
       "</div>"
      ],
      "text/plain": [
       "    department_id    department\n",
       "4               4       alcohol\n",
       "6               6     beverages\n",
       "11             11  meat seafood\n",
       "19             19          deli"
      ]
     },
     "execution_count": 100,
     "metadata": {},
     "output_type": "execute_result"
    }
   ],
   "source": [
    "df_dep_t_new[df_dep_t_new['department'].isin(['alcohol', 'deli', 'beverages', 'meat seafood'])]\n"
   ]
  },
  {
   "cell_type": "code",
   "execution_count": 102,
   "id": "ac93bd76-511e-4cfb-9e45-9640238a6228",
   "metadata": {},
   "outputs": [
    {
     "name": "stdout",
     "output_type": "stream",
     "text": [
      "    product_id                       product_name  aisle_id  department_id  \\\n",
      "0            1         Chocolate Sandwich Cookies        61             19   \n",
      "5            6                       Dry Nose Oil        11             11   \n",
      "12          13                  Saline Nasal Mist        11             11   \n",
      "15          16      Mint Chocolate Flavored Syrup       103             19   \n",
      "21          22  Fresh Breath Oral Rinse Mild Mint        20             11   \n",
      "\n",
      "    prices  \n",
      "0      5.8  \n",
      "5      2.6  \n",
      "12     1.1  \n",
      "15     5.2  \n",
      "21     9.5  \n",
      "Number of dinner party items: 15652\n"
     ]
    }
   ],
   "source": [
    "# Define the relevant department IDs\n",
    "dinner_ids = [4, 6, 11, 19]\n",
    "\n",
    "# Filter df_prods\n",
    "dinner_party_df = df_prods[df_prods['department_id'].isin(dinner_ids)]\n",
    "\n",
    "# Preview the data\n",
    "print(dinner_party_df.head())\n",
    "print(f\"Number of dinner party items: {dinner_party_df.shape[0]}\")"
   ]
  },
  {
   "cell_type": "code",
   "execution_count": null,
   "id": "e94e00a7-bdb6-4d74-8cfb-fd7885792d63",
   "metadata": {},
   "outputs": [],
   "source": [
    "#How many rows does the last dataframe you created have? Answer: 15,652 rows"
   ]
  },
  {
   "cell_type": "code",
   "execution_count": 103,
   "id": "94c64a8b-7209-4127-a646-93bb1a9564aa",
   "metadata": {},
   "outputs": [
    {
     "name": "stdout",
     "output_type": "stream",
     "text": [
      "   order_id  user_id  order_number  orders_day_of_week  order_hour_of_day  \\\n",
      "0   2539329        1             1                   2                  8   \n",
      "1   2398795        1             2                   3                  7   \n",
      "2    473747        1             3                   3                 12   \n",
      "3   2254736        1             4                   4                  7   \n",
      "4    431534        1             5                   4                 15   \n",
      "5   3367565        1             6                   2                  7   \n",
      "6    550135        1             7                   1                  9   \n",
      "7   3108588        1             8                   1                 14   \n",
      "8   2295261        1             9                   1                 16   \n",
      "9   2550362        1            10                   4                  8   \n",
      "10  1187899        1            11                   4                  8   \n",
      "\n",
      "    days_since_prior_order  \n",
      "0                      NaN  \n",
      "1                     15.0  \n",
      "2                     21.0  \n",
      "3                     29.0  \n",
      "4                     28.0  \n",
      "5                     19.0  \n",
      "6                     20.0  \n",
      "7                     14.0  \n",
      "8                      0.0  \n",
      "9                     30.0  \n",
      "10                    14.0  \n",
      "\n",
      "Number of orders by user 1: 11\n"
     ]
    }
   ],
   "source": [
    "# Extract data for user_id = 1\n",
    "user_1_data = df_orders[df_orders['user_id'] == 1]\n",
    "\n",
    "# Preview\n",
    "print(user_1_data)\n",
    "print(f\"\\nNumber of orders by user 1: {user_1_data.shape[0]}\")"
   ]
  },
  {
   "cell_type": "code",
   "execution_count": 104,
   "id": "d58dc1eb-5748-4ca8-8b32-bce13836296f",
   "metadata": {},
   "outputs": [
    {
     "name": "stdout",
     "output_type": "stream",
     "text": [
      "User 1 placed 11 orders.\n",
      "Average gap between orders: 19.0 days.\n",
      "Most common day of week for orders: 4 (0=Sunday, 6=Saturday).\n",
      "Most common hour of day for orders: 7:00.\n"
     ]
    }
   ],
   "source": [
    "# Average days between orders\n",
    "avg_days = user_1_data['days_since_prior_order'].mean()\n",
    "\n",
    "# Most common order day\n",
    "most_common_day = user_1_data['orders_day_of_week'].mode()[0]\n",
    "\n",
    "# Most common order hour\n",
    "most_common_hour = user_1_data['order_hour_of_day'].mode()[0]\n",
    "\n",
    "# Display results\n",
    "print(f\"User 1 placed {user_1_data.shape[0]} orders.\")\n",
    "print(f\"Average gap between orders: {round(avg_days, 1)} days.\")\n",
    "print(f\"Most common day of week for orders: {most_common_day} (0=Sunday, 6=Saturday).\")\n",
    "print(f\"Most common hour of day for orders: {most_common_hour}:00.\")"
   ]
  },
  {
   "cell_type": "code",
   "execution_count": 106,
   "id": "5751d0f5-e193-4644-84cb-6f6d754a0836",
   "metadata": {},
   "outputs": [],
   "source": [
    "#11 orders totalAverage gap between orders: 19 days\n",
    "\n",
    "#Most common order day: 4 (which means Thursday if 0=Sunday)\n",
    "\n",
    "#Most common order hour: 7 AM"
   ]
  },
  {
   "cell_type": "code",
   "execution_count": 29,
   "id": "df1bfa4b-e04c-40a2-be4d-93461ff35866",
   "metadata": {},
   "outputs": [
    {
     "name": "stdout",
     "output_type": "stream",
     "text": [
      "df_dep_t_new ist nicht definiert, Export nicht möglich.\n"
     ]
    }
   ],
   "source": [
    "#export files\n",
    "export_path = '/Users/am/Desktop/CF Data Analysis essentials/2_Data Analytics Immersions_2 von 3/4 Phyton Theory/4.4/Prepared Data'\n",
    "\n",
    "os.makedirs(export_path, exist_ok=True)\n",
    "# Beispiel: sicherstellen, dass df_dep_t_new vorhanden ist\n",
    "if 'df_dep_t_new' in globals():\n",
    "    df_dep_t_new.to_csv(os.path.join(export_path, 'departments_wrangled.csv'), index=False)\n",
    "else:\n",
    "    print(\"df_dep_t_new ist nicht definiert, Export nicht möglich.\")\n"
   ]
  },
  {
   "cell_type": "code",
   "execution_count": null,
   "id": "c6b6e85f-5c21-4d0d-9578-f6b36a18fc32",
   "metadata": {},
   "outputs": [],
   "source": [
    "print(\"Orders file exists:\", os.path.isfile(export_path + 'orders_wrangled.csv'))\n",
    "print(\"Departments file exists:\", os.path.isfile(export_path + 'departments_wrangled.csv'))\n",
    "\n",
    "\n",
    "\n",
    "\n"
   ]
  },
  {
   "cell_type": "code",
   "execution_count": null,
   "id": "a4c8cce8-9c5d-40e1-8242-aa963d9028c1",
   "metadata": {},
   "outputs": [],
   "source": []
  },
  {
   "cell_type": "code",
   "execution_count": null,
   "id": "7ea504d3-aab7-44f5-8792-db8c719a1b4e",
   "metadata": {},
   "outputs": [],
   "source": []
  }
 ],
 "metadata": {
  "kernelspec": {
   "display_name": "Python 3 (ipykernel)",
   "language": "python",
   "name": "python3"
  },
  "language_info": {
   "codemirror_mode": {
    "name": "ipython",
    "version": 3
   },
   "file_extension": ".py",
   "mimetype": "text/x-python",
   "name": "python",
   "nbconvert_exporter": "python",
   "pygments_lexer": "ipython3",
   "version": "3.11.7"
  }
 },
 "nbformat": 4,
 "nbformat_minor": 5
}
