{
 "cells": [
  {
   "cell_type": "code",
   "execution_count": 19,
   "id": "408cc1e8-369c-4c5b-b260-1caf609ae891",
   "metadata": {},
   "outputs": [],
   "source": [
    "import pandas as pd \n",
    "import os\n"
   ]
  },
  {
   "cell_type": "code",
   "execution_count": 7,
   "id": "1121098f-da5f-4687-b169-9d760a47ab1b",
   "metadata": {},
   "outputs": [
    {
     "name": "stdout",
     "output_type": "stream",
     "text": [
      "_merge\n",
      "both          32434489\n",
      "right_only      206209\n",
      "left_only            0\n",
      "Name: count, dtype: int64\n"
     ]
    }
   ],
   "source": [
    "df_ords_prior = pd.read_csv('/Users/am/Desktop/CF Data Analysis essentials /2_Data Analytics Immersions_2 von 3/4 Phyton Theory/4.6/orders_products_prior 2.csv')\n",
    "\n",
    "df_ords = pd.read_csv('/Users/am/Desktop/CF Data Analysis essentials /2_Data Analytics Immersions_2 von 3/4 Phyton Theory/4.6/orders.csv')\n",
    "\n",
    "df_merged = pd.merge(df_ords_prior, df_ords, on='order_id', how='outer', indicator=True)\n",
    "\n",
    "df_merged['_merge'].value_counts()\n",
    "\n",
    "print(df_merged['_merge'].value_counts())\n"
   ]
  },
  {
   "cell_type": "code",
   "execution_count": 6,
   "id": "f7286c55-b376-4242-b47c-274888a1d5f1",
   "metadata": {},
   "outputs": [
    {
     "name": "stdout",
     "output_type": "stream",
     "text": [
      "Hello, world!\n"
     ]
    }
   ],
   "source": [
    "print(\"Hello, world!\")"
   ]
  },
  {
   "cell_type": "code",
   "execution_count": 8,
   "id": "0b66af39-d02a-4d65-9e89-fd9dd6a36243",
   "metadata": {},
   "outputs": [
    {
     "name": "stdout",
     "output_type": "stream",
     "text": [
      "   order_id  product_id  add_to_cart_order  reordered\n",
      "0         2       33120                  1          1\n",
      "1         2       28985                  2          1\n",
      "2         2        9327                  3          0\n",
      "3         2       45918                  4          1\n",
      "4         2       30035                  5          0\n",
      "   order_id  user_id eval_set  order_number  order_dow  order_hour_of_day  \\\n",
      "0   2539329        1    prior             1          2                  8   \n",
      "1   2398795        1    prior             2          3                  7   \n",
      "2    473747        1    prior             3          3                 12   \n",
      "3   2254736        1    prior             4          4                  7   \n",
      "4    431534        1    prior             5          4                 15   \n",
      "\n",
      "   days_since_prior_order  \n",
      "0                     NaN  \n",
      "1                    15.0  \n",
      "2                    21.0  \n",
      "3                    29.0  \n",
      "4                    28.0  \n"
     ]
    }
   ],
   "source": [
    "print(df_ords_prior.head())\n",
    "print(df_ords.head())"
   ]
  },
  {
   "cell_type": "code",
   "execution_count": 9,
   "id": "d904dd00-8aa0-4076-8fdf-90c25a222648",
   "metadata": {},
   "outputs": [
    {
     "name": "stdout",
     "output_type": "stream",
     "text": [
      "df_ords_prior shape: (32434489, 4)\n",
      "df_ords shape: (3421083, 7)\n"
     ]
    }
   ],
   "source": [
    "print(\"df_ords_prior shape:\", df_ords_prior.shape)\n",
    "print(\"df_ords shape:\", df_ords.shape)"
   ]
  },
  {
   "cell_type": "code",
   "execution_count": 10,
   "id": "a80743d6-a748-495a-bf80-7f44f1067d7a",
   "metadata": {},
   "outputs": [],
   "source": [
    "df_merged_large = df_ords.merge(df_ords_prior, on='order_id', indicator=True)"
   ]
  },
  {
   "cell_type": "code",
   "execution_count": 11,
   "id": "cae59b20-7941-4e71-9655-ac86c73fe26b",
   "metadata": {},
   "outputs": [
    {
     "name": "stdout",
     "output_type": "stream",
     "text": [
      "_merge\n",
      "both          32434489\n",
      "left_only            0\n",
      "right_only           0\n",
      "Name: count, dtype: int64\n"
     ]
    }
   ],
   "source": [
    "print(df_merged_large['_merge'].value_counts())"
   ]
  },
  {
   "cell_type": "code",
   "execution_count": 31,
   "id": "303e7a29-16e7-4f88-9284-470f07fb7dbd",
   "metadata": {},
   "outputs": [],
   "source": [
    "# --- 4. Set your main project folder path\n",
    "path = '/Users/am/Desktop/CF Data Analysis essentials /2_Data Analytics Immersions_2 von 3/4 Phyton Theory/4.6'\n",
    "\n",
    "# --- 5. Create the output directory if it doesn't exist\n",
    "output_dir = os.path.join(path, '02 Data', 'Prepared Data')\n",
    "os.makedirs(output_dir, exist_ok=True)  # This line creates the folder safely\n",
    "\n",
    "# --- 6. Export merged data to CSV\n",
    "df_merged_large.to_csv(os.path.join(output_dir, 'orders_products_combined.csv'), index=False)\n",
    "\n",
    "# --- 7. Export merged data to Pickle format\n",
    "df_merged_large.to_pickle(os.path.join(output_dir, 'orders_products_combined.pkl'))"
   ]
  },
  {
   "cell_type": "code",
   "execution_count": 32,
   "id": "cc67a348-bd82-4897-88e6-6367e5c74a57",
   "metadata": {},
   "outputs": [
    {
     "name": "stdout",
     "output_type": "stream",
     "text": [
      "['orders_products_combined.pkl', 'orders_products_combined.csv']\n"
     ]
    }
   ],
   "source": [
    "import os\n",
    "\n",
    "# List files in the folder where you saved the CSV\n",
    "output_dir = os.path.join(path, '02 Data', 'Prepared Data')\n",
    "print(os.listdir(output_dir))"
   ]
  },
  {
   "cell_type": "code",
   "execution_count": null,
   "id": "dc173c6d-98a7-485a-8113-89dc96277e42",
   "metadata": {},
   "outputs": [],
   "source": [
    "#Merged orders_products_prior with orders on order_id.Saved the merged dataframe as orders_products_combined.pkl and .csv.Confirmed the shape: (32434489, 11) "
   ]
  }
 ],
 "metadata": {
  "kernelspec": {
   "display_name": "Python 3 (ipykernel)",
   "language": "python",
   "name": "python3"
  },
  "language_info": {
   "codemirror_mode": {
    "name": "ipython",
    "version": 3
   },
   "file_extension": ".py",
   "mimetype": "text/x-python",
   "name": "python",
   "nbconvert_exporter": "python",
   "pygments_lexer": "ipython3",
   "version": "3.11.7"
  }
 },
 "nbformat": 4,
 "nbformat_minor": 5
}
