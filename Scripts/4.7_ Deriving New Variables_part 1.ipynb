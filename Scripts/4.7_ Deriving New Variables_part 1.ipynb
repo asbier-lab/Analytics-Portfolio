{
 "cells": [
  {
   "cell_type": "code",
   "execution_count": 15,
   "id": "5f6a98aa-d5c3-4e7d-ae91-172b0376e6ff",
   "metadata": {
    "scrolled": true
   },
   "outputs": [
    {
     "name": "stdout",
     "output_type": "stream",
     "text": [
      "(32404859, 15)\n"
     ]
    },
    {
     "data": {
      "text/html": [
       "<div>\n",
       "<style scoped>\n",
       "    .dataframe tbody tr th:only-of-type {\n",
       "        vertical-align: middle;\n",
       "    }\n",
       "\n",
       "    .dataframe tbody tr th {\n",
       "        vertical-align: top;\n",
       "    }\n",
       "\n",
       "    .dataframe thead th {\n",
       "        text-align: right;\n",
       "    }\n",
       "</style>\n",
       "<table border=\"1\" class=\"dataframe\">\n",
       "  <thead>\n",
       "    <tr style=\"text-align: right;\">\n",
       "      <th></th>\n",
       "      <th>order_id</th>\n",
       "      <th>user_id</th>\n",
       "      <th>eval_set</th>\n",
       "      <th>order_number</th>\n",
       "      <th>order_dow</th>\n",
       "      <th>order_hour_of_day</th>\n",
       "      <th>days_since_prior_order</th>\n",
       "      <th>product_id</th>\n",
       "      <th>add_to_cart_order</th>\n",
       "      <th>reordered</th>\n",
       "      <th>_merge</th>\n",
       "      <th>product_name</th>\n",
       "      <th>aisle_id</th>\n",
       "      <th>department_id</th>\n",
       "      <th>prices</th>\n",
       "    </tr>\n",
       "  </thead>\n",
       "  <tbody>\n",
       "    <tr>\n",
       "      <th>0</th>\n",
       "      <td>2539329</td>\n",
       "      <td>1</td>\n",
       "      <td>prior</td>\n",
       "      <td>1</td>\n",
       "      <td>2</td>\n",
       "      <td>8</td>\n",
       "      <td>NaN</td>\n",
       "      <td>196</td>\n",
       "      <td>1</td>\n",
       "      <td>0</td>\n",
       "      <td>both</td>\n",
       "      <td>Soda</td>\n",
       "      <td>77</td>\n",
       "      <td>7</td>\n",
       "      <td>9.0</td>\n",
       "    </tr>\n",
       "    <tr>\n",
       "      <th>1</th>\n",
       "      <td>2398795</td>\n",
       "      <td>1</td>\n",
       "      <td>prior</td>\n",
       "      <td>2</td>\n",
       "      <td>3</td>\n",
       "      <td>7</td>\n",
       "      <td>15.0</td>\n",
       "      <td>196</td>\n",
       "      <td>1</td>\n",
       "      <td>1</td>\n",
       "      <td>both</td>\n",
       "      <td>Soda</td>\n",
       "      <td>77</td>\n",
       "      <td>7</td>\n",
       "      <td>9.0</td>\n",
       "    </tr>\n",
       "    <tr>\n",
       "      <th>2</th>\n",
       "      <td>473747</td>\n",
       "      <td>1</td>\n",
       "      <td>prior</td>\n",
       "      <td>3</td>\n",
       "      <td>3</td>\n",
       "      <td>12</td>\n",
       "      <td>21.0</td>\n",
       "      <td>196</td>\n",
       "      <td>1</td>\n",
       "      <td>1</td>\n",
       "      <td>both</td>\n",
       "      <td>Soda</td>\n",
       "      <td>77</td>\n",
       "      <td>7</td>\n",
       "      <td>9.0</td>\n",
       "    </tr>\n",
       "    <tr>\n",
       "      <th>3</th>\n",
       "      <td>2254736</td>\n",
       "      <td>1</td>\n",
       "      <td>prior</td>\n",
       "      <td>4</td>\n",
       "      <td>4</td>\n",
       "      <td>7</td>\n",
       "      <td>29.0</td>\n",
       "      <td>196</td>\n",
       "      <td>1</td>\n",
       "      <td>1</td>\n",
       "      <td>both</td>\n",
       "      <td>Soda</td>\n",
       "      <td>77</td>\n",
       "      <td>7</td>\n",
       "      <td>9.0</td>\n",
       "    </tr>\n",
       "    <tr>\n",
       "      <th>4</th>\n",
       "      <td>431534</td>\n",
       "      <td>1</td>\n",
       "      <td>prior</td>\n",
       "      <td>5</td>\n",
       "      <td>4</td>\n",
       "      <td>15</td>\n",
       "      <td>28.0</td>\n",
       "      <td>196</td>\n",
       "      <td>1</td>\n",
       "      <td>1</td>\n",
       "      <td>both</td>\n",
       "      <td>Soda</td>\n",
       "      <td>77</td>\n",
       "      <td>7</td>\n",
       "      <td>9.0</td>\n",
       "    </tr>\n",
       "  </tbody>\n",
       "</table>\n",
       "</div>"
      ],
      "text/plain": [
       "   order_id  user_id eval_set  order_number  order_dow  order_hour_of_day  \\\n",
       "0   2539329        1    prior             1          2                  8   \n",
       "1   2398795        1    prior             2          3                  7   \n",
       "2    473747        1    prior             3          3                 12   \n",
       "3   2254736        1    prior             4          4                  7   \n",
       "4    431534        1    prior             5          4                 15   \n",
       "\n",
       "   days_since_prior_order  product_id  add_to_cart_order  reordered _merge  \\\n",
       "0                     NaN         196                  1          0   both   \n",
       "1                    15.0         196                  1          1   both   \n",
       "2                    21.0         196                  1          1   both   \n",
       "3                    29.0         196                  1          1   both   \n",
       "4                    28.0         196                  1          1   both   \n",
       "\n",
       "  product_name  aisle_id  department_id  prices  \n",
       "0         Soda        77              7     9.0  \n",
       "1         Soda        77              7     9.0  \n",
       "2         Soda        77              7     9.0  \n",
       "3         Soda        77              7     9.0  \n",
       "4         Soda        77              7     9.0  "
      ]
     },
     "execution_count": 15,
     "metadata": {},
     "output_type": "execute_result"
    }
   ],
   "source": [
    "import pandas as pd\n",
    "import os\n",
    "\n",
    "# Define your path to where you saved the merged pickle\n",
    "base_path = '/Users/am/Desktop/CF Data Analysis essentials /2_Data Analytics Immersions_2 von 3/4 Phyton/4.6/02 Data/Prepared Data'\n",
    "save_path = os.path.join(base_path,'orders_products_merged_inner.pkl')\n",
    "\n",
    "# Load the dataframe\n",
    "ords_prods_merge = pd.read_pickle(save_path)\n",
    "\n",
    "# Check shape and first few rows\n",
    "print(ords_prods_merge.shape)\n",
    "ords_prods_merge.head()"
   ]
  },
  {
   "cell_type": "code",
   "execution_count": 18,
   "id": "61711104-9436-4683-897e-c61b0b64729b",
   "metadata": {},
   "outputs": [
    {
     "name": "stdout",
     "output_type": "stream",
     "text": [
      "prices\n",
      "12.3    624261\n",
      "10.3    510496\n",
      "4.0     447272\n",
      "6.3     438467\n",
      "1.3     425691\n",
      "         ...  \n",
      "20.2       123\n",
      "22.7        99\n",
      "21.5        85\n",
      "18.3        11\n",
      "21.0         8\n",
      "Name: count, Length: 242, dtype: int64\n"
     ]
    }
   ],
   "source": [
    "# Define the function\n",
    "def price_label(row):\n",
    "   if row ['prices'] <= 5:\n",
    "       return 'Low range product' \n",
    "   elif (row ['prices'] >5)and (row ['prices']<=15):\n",
    "       return 'Midrange product'\n",
    "   elif row ['prices'] >15:\n",
    "       return ['High range product']\n",
    "   else:return np.nan\n",
    "       \n",
    "print ( ords_prods_merge['prices'].value_counts())"
   ]
  },
  {
   "cell_type": "code",
   "execution_count": 11,
   "id": "f0d14e19-300c-4550-ac2e-e5cb371fe1eb",
   "metadata": {},
   "outputs": [
    {
     "name": "stdout",
     "output_type": "stream",
     "text": [
      "Orders per hour:\n",
      "order_hour_of_day\n",
      "0      218769\n",
      "1      115700\n",
      "2       69375\n",
      "3       51281\n",
      "4       53242\n",
      "5       87961\n",
      "6      290493\n",
      "7      891054\n",
      "8     1718118\n",
      "9     2454203\n",
      "10    2761760\n",
      "11    2736140\n",
      "12    2618532\n",
      "13    2660954\n",
      "14    2689136\n",
      "15    2662144\n",
      "16    2535202\n",
      "17    2087654\n",
      "18    1636502\n",
      "19    1258305\n",
      "20     976156\n",
      "21     795637\n",
      "22     634225\n",
      "23     402316\n",
      "Name: count, dtype: int64\n"
     ]
    },
    {
     "data": {
      "image/png": "[encoded data removed]",
      "text/plain": [
       "<Figure size 1200x500 with 1 Axes>"
      ]
     },
     "metadata": {},
     "output_type": "display_data"
    }
   ],
   "source": [
    "# Counting orders by hour of day\n",
    "hour_counts = ords_prods_merge['order_hour_of_day'].value_counts().sort_index()\n",
    "print(\"Orders per hour:\")\n",
    "print(hour_counts)\n",
    "\n",
    "# visualize to help decide thresholds (optional)\n",
    "import matplotlib.pyplot as plt\n",
    "\n",
    "hour_counts.plot(kind='bar', figsize=(12,5))\n",
    "plt.title('Number of Orders by Hour of Day')\n",
    "plt.xlabel('Hour of Day')\n",
    "plt.ylabel('Number of Orders')\n",
    "plt.show()"
   ]
  },
  {
   "cell_type": "code",
   "execution_count": 17,
   "id": "02a261da-1d44-48eb-9b8a-213c7cd5cef4",
   "metadata": {},
   "outputs": [
    {
     "name": "stdout",
     "output_type": "stream",
     "text": [
      "busiest_period_of_day\n",
      "Average orders    23955964\n",
      "Most orders        8187036\n",
      "Fewest orders       261859\n",
      "Name: count, dtype: int64\n"
     ]
    }
   ],
   "source": [
    "# Define busiest periods based on order counts (adjust hours as per your data)\n",
    "most_orders_hours = [10, 11, 14]  # example peak hours\n",
    "fewest_orders_hours = [2, 3, 4, 5] # low activity hours\n",
    "# The rest are average\n",
    "\n",
    "def label_period(hour):\n",
    "    if hour in most_orders_hours:\n",
    "        return 'Most orders'\n",
    "    elif hour in fewest_orders_hours:\n",
    "        return 'Fewest orders'\n",
    "    else:\n",
    "        return 'Average orders'\n",
    "\n",
    "ords_prods_merge['busiest_period_of_day'] = ords_prods_merge['order_hour_of_day'].apply(label_period)\n",
    "\n",
    "# Check frequency counts\n",
    "print(ords_prods_merge['busiest_period_of_day'].value_counts())"
   ]
  },
  {
   "cell_type": "code",
   "execution_count": 13,
   "id": "9da6e649-ebf1-4f95-b436-1c48b519818c",
   "metadata": {},
   "outputs": [
    {
     "name": "stdout",
     "output_type": "stream",
     "text": [
      "busiest_days\n",
      "Regular days    12916111\n",
      "Busiest days    11864412\n",
      "Slowest days     7624336\n",
      "Name: count, dtype: int64\n"
     ]
    }
   ],
   "source": [
    "# Calculate order counts per day of week\n",
    "dow_counts = ords_prods_merge['order_dow'].value_counts()\n",
    "\n",
    "# Identify top 2 busiest days and bottom 2 slowest days\n",
    "busiest_days = dow_counts.nlargest(2).index.tolist()\n",
    "slowest_days = dow_counts.nsmallest(2).index.tolist()\n",
    "\n",
    "# Create the new 'busiest_days' column with conditions\n",
    "def label_busiest_slowest(day):\n",
    "    if day in busiest_days:\n",
    "        return 'Busiest days'\n",
    "    elif day in slowest_days:\n",
    "        return 'Slowest days'\n",
    "    else:\n",
    "        return 'Regular days'\n",
    "\n",
    "ords_prods_merge['busiest_days'] = ords_prods_merge['order_dow'].apply(label_busiest_slowest)\n",
    "\n",
    "# Step 4: Check value counts for this new column\n",
    "print(ords_prods_merge['busiest_days'].value_counts())"
   ]
  },
  {
   "cell_type": "code",
   "execution_count": null,
   "id": "a7f06f91-2bdf-421b-bfc7-d7278f50cd86",
   "metadata": {},
   "outputs": [],
   "source": [
    "#Outcome Explanation\n"
   ]
  },
  {
   "cell_type": "code",
   "execution_count": 19,
   "id": "fc127a4b-7a03-4334-9b77-0223ab269c54",
   "metadata": {},
   "outputs": [
    {
     "name": "stdout",
     "output_type": "stream",
     "text": [
      "Dataframe saved as pickle!\n"
     ]
    }
   ],
   "source": [
    "# Define save path (adjust your path accordingly)\n",
    "save_path = os.path.join(base_path, 'ords_prods_merge_updated.pkl')\n",
    "\n",
    "# Save dataframe as pickle\n",
    "ords_prods_merge.to_pickle(save_path)\n",
    "print(\"Dataframe saved as pickle!\")"
   ]
  },
  {
   "cell_type": "code",
   "execution_count": null,
   "id": "297a2cdc-32e9-4d7a-9706-9709977d0444",
   "metadata": {},
   "outputs": [],
   "source": []
  }
 ],
 "metadata": {
  "kernelspec": {
   "display_name": "Python 3 (ipykernel)",
   "language": "python",
   "name": "python3"
  },
  "language_info": {
   "codemirror_mode": {
    "name": "ipython",
    "version": 3
   },
   "file_extension": ".py",
   "mimetype": "text/x-python",
   "name": "python",
   "nbconvert_exporter": "python",
   "pygments_lexer": "ipython3",
   "version": "3.11.7"
  }
 },
 "nbformat": 4,
 "nbformat_minor": 5
}
