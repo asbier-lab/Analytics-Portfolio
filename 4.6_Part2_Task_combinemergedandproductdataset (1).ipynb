{
 "cells": [
  {
   "cell_type": "code",
   "execution_count": 9,
   "id": "be2c750d-86ca-46ad-bf15-ba18d7ce792f",
   "metadata": {},
   "outputs": [
    {
     "name": "stdout",
     "output_type": "stream",
     "text": [
      "Combined shape: (32434489, 11)\n",
      "Products shape: (49672, 5)\n"
     ]
    }
   ],
   "source": [
    "import pandas as pd\n",
    "import os\n",
    "\n",
    "# Define base path\n",
    "base_path = '/Users/am/Desktop/CF Data Analysis essentials /2_Data Analytics Immersions_2 von 3/4 Phyton/4.6/02 Data/Prepared Data'\n",
    "\n",
    "# Load data \n",
    "df_ords = pd.read_pickle(os.path.join(base_path, 'orders_products_combined.pkl'))\n",
    "\n",
    "\n",
    "df_products = pd.read_pickle(os.path.join(base_path, 'products_clean.pkl'))\n",
    "\n",
    "# df_ords:\n",
    "df_combined = df_ords\n",
    "\n",
    "# Preview shapes\n",
    "print(\"Combined shape:\", df_combined.shape)\n",
    "print(\"Products shape:\", df_products.shape)"
   ]
  },
  {
   "cell_type": "code",
   "execution_count": 13,
   "id": "356c2c68-daeb-4982-b2a5-26c7d447ceea",
   "metadata": {
    "scrolled": true
   },
   "outputs": [
    {
     "name": "stdout",
     "output_type": "stream",
     "text": [
      "Original orders: (32434489, 11)\n",
      "After inner merge: (32404859, 15)\n"
     ]
    }
   ],
   "source": [
    "#merge\n",
    "df_merged = pd.merge(df_ords, df_products, on='product_id', how='inner')\n",
    "print(\"Original orders:\", df_ords.shape)\n",
    "print(\"After inner merge:\", df_merged.shape)"
   ]
  },
  {
   "cell_type": "code",
   "execution_count": 14,
   "id": "cf3c0858-4349-4d54-88f0-6f83e0d73c19",
   "metadata": {
    "scrolled": true
   },
   "outputs": [
    {
     "name": "stdout",
     "output_type": "stream",
     "text": [
      "✅ Final merged DataFrame saved successfully.\n"
     ]
    }
   ],
   "source": [
    "# Save as pickle\n",
    "\n",
    "df_merged.to_pickle(os.path.join(base_path, 'orders_products_merged_inner.pkl'))\n",
    "print(\"✅ Final merged DataFrame saved successfully.\")"
   ]
  },
  {
   "cell_type": "code",
   "execution_count": null,
   "id": "4b3ec708-08bf-4c57-9de5-4c87330c825a",
   "metadata": {},
   "outputs": [],
   "source": []
  }
 ],
 "metadata": {
  "kernelspec": {
   "display_name": "Python 3 (ipykernel)",
   "language": "python",
   "name": "python3"
  },
  "language_info": {
   "codemirror_mode": {
    "name": "ipython",
    "version": 3
   },
   "file_extension": ".py",
   "mimetype": "text/x-python",
   "name": "python",
   "nbconvert_exporter": "python",
   "pygments_lexer": "ipython3",
   "version": "3.11.7"
  }
 },
 "nbformat": 4,
 "nbformat_minor": 5
}
