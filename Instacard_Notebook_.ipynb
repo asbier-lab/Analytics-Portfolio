{
 "cells": [
  {
   "cell_type": "code",
   "execution_count": 8,
   "id": "e0be6dc3-0f0a-474c-91ee-736934e4a926",
   "metadata": {},
   "outputs": [
    {
     "name": "stdout",
     "output_type": "stream",
     "text": [
      "/Users/am/01.10.2025/03 Scripts\n",
      "<class 'pandas.core.frame.DataFrame'>\n",
      "RangeIndex: 30629741 entries, 0 to 30629740\n",
      "Data columns (total 27 columns):\n",
      " #   Column                  Dtype         \n",
      "---  ------                  -----         \n",
      " 0   order_id                int64         \n",
      " 1   user_id                 int64         \n",
      " 2   eval_set                object        \n",
      " 3   order_number            int64         \n",
      " 4   order_dow               int64         \n",
      " 5   order_hour_of_day       int64         \n",
      " 6   days_since_prior_order  float64       \n",
      " 7   product_id              int64         \n",
      " 8   add_to_cart_order       int64         \n",
      " 9   reordered               int64         \n",
      " 10  _merge                  category      \n",
      " 11  product_name            object        \n",
      " 12  aisle_id                int64         \n",
      " 13  department_id           int64         \n",
      " 14  prices                  float64       \n",
      " 15  max_order               int64         \n",
      " 16  loyalty_flag            object        \n",
      " 17  order_frequency_flag    object        \n",
      " 18  first_name              object        \n",
      " 19  surname                 object        \n",
      " 20  Gender                  object        \n",
      " 21  state                   object        \n",
      " 22  age                     int64         \n",
      " 23  date_joined             datetime64[ns]\n",
      " 24  num_dependants          int64         \n",
      " 25  family_status           object        \n",
      " 26  income                  int64         \n",
      "dtypes: category(1), datetime64[ns](1), float64(2), int64(14), object(9)\n",
      "memory usage: 6.0+ GB\n"
     ]
    }
   ],
   "source": [
    "# Import libraries\n",
    "import pandas as pd\n",
    "import os\n",
    "\n",
    "\n",
    "# Check current working directory\n",
    "print(os.getcwd())\n",
    "\n",
    "# Load merged dataset \n",
    "df = pd.read_pickle('/Users/am/Desktop/CF Data Analysis essentials /2_Data Analytics Immersions_2 von 3/4 Phyton/4.9/ords_prods_customers_updated_part22.pkl')  \n",
    "# Display basic info\n",
    "df.head()\n",
    "df.info()"
   ]
  },
  {
   "cell_type": "code",
   "execution_count": 3,
   "id": "9ee270af-b272-4035-96c5-dc0e1379ab11",
   "metadata": {},
   "outputs": [
    {
     "data": {
      "text/plain": [
       "2.0"
      ]
     },
     "execution_count": 3,
     "metadata": {},
     "output_type": "execute_result"
    }
   ],
   "source": [
    "#The merged dataset contains 30.6 million entries across 27 columns, combining detailed order, product, and customer demographic information for in-depth analysis."
   ]
  },
  {
   "cell_type": "code",
   "execution_count": 9,
   "id": "80c0a250-d9b6-47b9-be36-1647f469402b",
   "metadata": {},
   "outputs": [
    {
     "name": "stdout",
     "output_type": "stream",
     "text": [
      "<class 'pandas.core.frame.DataFrame'>\n",
      "RangeIndex: 30629741 entries, 0 to 30629740\n",
      "Data columns (total 25 columns):\n",
      " #   Column                  Dtype         \n",
      "---  ------                  -----         \n",
      " 0   order_id                int64         \n",
      " 1   user_id                 int64         \n",
      " 2   eval_set                object        \n",
      " 3   order_number            int64         \n",
      " 4   order_dow               int64         \n",
      " 5   order_hour_of_day       int64         \n",
      " 6   days_since_prior_order  float64       \n",
      " 7   product_id              int64         \n",
      " 8   add_to_cart_order       int64         \n",
      " 9   reordered               int64         \n",
      " 10  _merge                  category      \n",
      " 11  product_name            object        \n",
      " 12  aisle_id                int64         \n",
      " 13  department_id           int64         \n",
      " 14  prices                  float64       \n",
      " 15  max_order               int64         \n",
      " 16  loyalty_flag            object        \n",
      " 17  order_frequency_flag    object        \n",
      " 18  Gender                  object        \n",
      " 19  state                   object        \n",
      " 20  age                     int64         \n",
      " 21  date_joined             datetime64[ns]\n",
      " 22  num_dependants          int64         \n",
      " 23  family_status           object        \n",
      " 24  income                  int64         \n",
      "dtypes: category(1), datetime64[ns](1), float64(2), int64(14), object(7)\n",
      "memory usage: 5.5+ GB\n"
     ]
    }
   ],
   "source": [
    "# first_name, surname:These should be removed or anonymized-I Choose to remove as I dont need them. #I wouldn if this was a banking or payment system, then I would anonymize them.\n",
    "# Safely drop columns even if they don't exist\n",
    "df = df.drop(columns=['first_name', 'surname'], errors='ignore')\n",
    "\n",
    "# Confirm they're gone\n",
    "df.info()"
   ]
  },
  {
   "cell_type": "code",
   "execution_count": 10,
   "id": "bd39a316-d261-4310-b457-dfa64deb991b",
   "metadata": {},
   "outputs": [
    {
     "data": {
      "text/plain": [
       "region\n",
       "Other    30629741\n",
       "Name: count, dtype: int64"
      ]
     },
     "execution_count": 10,
     "metadata": {},
     "output_type": "execute_result"
    }
   ],
   "source": [
    "# Define state groupings\n",
    "northeast = ['CT', 'ME', 'MA', 'NH', 'RI', 'VT', 'NJ', 'NY', 'PA']\n",
    "midwest = ['IL', 'IN', 'MI', 'OH', 'WI', 'IA', 'KS', 'MN', 'MO', 'NE', 'ND', 'SD']\n",
    "south = ['DE', 'FL', 'GA', 'MD', 'NC', 'SC', 'VA', 'DC', 'WV',\n",
    "         'AL', 'KY', 'MS', 'TN', 'AR', 'LA', 'OK', 'TX']\n",
    "west = ['AZ', 'CO', 'ID', 'MT', 'NV', 'NM', 'UT', 'WY',\n",
    "        'AK', 'CA', 'HI', 'OR', 'WA']\n",
    "\n",
    "# Function to assign region based on state\n",
    "def assign_region(state):\n",
    "    if state in northeast:\n",
    "        return 'Northeast'\n",
    "    elif state in midwest:\n",
    "        return 'Midwest'\n",
    "    elif state in south:\n",
    "        return 'South'\n",
    "    elif state in west:\n",
    "        return 'West'\n",
    "    else:\n",
    "        return 'Other'\n",
    "\n",
    "# Apply function to create new column\n",
    "df['region'] = df['state'].apply(assign_region)\n",
    "\n",
    "# Check value counts\n",
    "df['region'].value_counts(dropna=False)"
   ]
  },
  {
   "cell_type": "code",
   "execution_count": 11,
   "id": "495f7285-7e16-4763-8f8f-39db83b82607",
   "metadata": {},
   "outputs": [
    {
     "data": {
      "text/plain": [
       "array(['Alabama', 'Indiana', 'Louisiana', 'Montana', 'Oklahoma',\n",
       "       'Tennessee', 'Iowa', 'Virginia', 'Connecticut', 'Kentucky',\n",
       "       'Oregon', 'South Dakota', 'Michigan', 'New Jersey', 'Arizona',\n",
       "       'Maine', 'Ohio', 'Hawaii', 'Minnesota', 'Illinois', 'Idaho',\n",
       "       'Kansas', 'North Carolina', 'Vermont', 'Alaska', 'Delaware',\n",
       "       'Maryland', 'Nebraska', 'Nevada', 'Arkansas', 'Georgia',\n",
       "       'District of Columbia', 'Utah', 'Colorado', 'Florida',\n",
       "       'South Carolina', 'Rhode Island', 'Washington', 'California',\n",
       "       'Mississippi', 'Texas', 'New Mexico', 'Missouri', 'Wyoming',\n",
       "       'New Hampshire', 'Massachusetts', 'Pennsylvania', 'Wisconsin',\n",
       "       'West Virginia', 'North Dakota', 'New York'], dtype=object)"
      ]
     },
     "execution_count": 11,
     "metadata": {},
     "output_type": "execute_result"
    }
   ],
   "source": [
    "#too many other\n",
    "df['state'].unique()\n"
   ]
  },
  {
   "cell_type": "code",
   "execution_count": 12,
   "id": "76d41794-8145-48f2-b9fe-9a8fa3b1431d",
   "metadata": {},
   "outputs": [],
   "source": [
    "# Full state names grouped by region\n",
    "northeast = [\n",
    "    'Connecticut', 'Maine', 'Massachusetts', 'New Hampshire', 'Rhode Island',\n",
    "    'Vermont', 'New Jersey', 'New York', 'Pennsylvania'\n",
    "]\n",
    "\n",
    "midwest = [\n",
    "    'Illinois', 'Indiana', 'Michigan', 'Ohio', 'Wisconsin',\n",
    "    'Iowa', 'Kansas', 'Minnesota', 'Missouri', 'Nebraska',\n",
    "    'North Dakota', 'South Dakota'\n",
    "]\n",
    "\n",
    "south = [\n",
    "    'Delaware', 'Florida', 'Georgia', 'Maryland', 'North Carolina', 'South Carolina',\n",
    "    'Virginia', 'District of Columbia', 'West Virginia',\n",
    "    'Alabama', 'Kentucky', 'Mississippi', 'Tennessee', 'Arkansas',\n",
    "    'Louisiana', 'Oklahoma', 'Texas'\n",
    "]\n",
    "\n",
    "west = [\n",
    "    'Arizona', 'Colorado', 'Idaho', 'Montana', 'Nevada', 'New Mexico',\n",
    "    'Utah', 'Wyoming', 'Alaska', 'California', 'Hawaii', 'Oregon', 'Washington'\n",
    "]\n"
   ]
  },
  {
   "cell_type": "code",
   "execution_count": 13,
   "id": "a2f44c40-7df4-40dd-9493-e33f0bae3674",
   "metadata": {},
   "outputs": [],
   "source": [
    "def assign_region(state):\n",
    "    if state in northeast:\n",
    "        return 'Northeast'\n",
    "    elif state in midwest:\n",
    "        return 'Midwest'\n",
    "    elif state in south:\n",
    "        return 'South'\n",
    "    elif state in west:\n",
    "        return 'West'\n",
    "    else:\n",
    "        return 'Other'\n"
   ]
  },
  {
   "cell_type": "code",
   "execution_count": 14,
   "id": "f6d3fe82-2837-4c77-b32b-aade43d03bc5",
   "metadata": {},
   "outputs": [
    {
     "data": {
      "text/plain": [
       "region\n",
       "South        10198982\n",
       "West          7831810\n",
       "Midwest       7176924\n",
       "Northeast     5422025\n",
       "Name: count, dtype: int64"
      ]
     },
     "execution_count": 14,
     "metadata": {},
     "output_type": "execute_result"
    }
   ],
   "source": [
    "# Apply the function to the 'state' column\n",
    "df['region'] = df['state'].apply(assign_region)\n",
    "\n",
    "# Check the distribution\n",
    "df['region'].value_counts(dropna=False)\n"
   ]
  },
  {
   "cell_type": "code",
   "execution_count": 15,
   "id": "f830c610-ca05-4b2c-b0c2-e8769b6602f5",
   "metadata": {},
   "outputs": [],
   "source": [
    "df['region'] = df['region'].fillna('Unknown')\n"
   ]
  },
  {
   "cell_type": "code",
   "execution_count": 16,
   "id": "44823a1e-231a-4eb8-9fda-6c87c8de9c23",
   "metadata": {},
   "outputs": [],
   "source": [
    "#The dataset shows the highest customer activity in the South region, followed by the West, Midwest, and Northeast.\n"
   ]
  },
  {
   "cell_type": "code",
   "execution_count": 17,
   "id": "2edca656-0093-411b-9b46-39b26b8c0c65",
   "metadata": {},
   "outputs": [
    {
     "data": {
      "text/plain": [
       "['order_id',\n",
       " 'user_id',\n",
       " 'eval_set',\n",
       " 'order_number',\n",
       " 'order_dow',\n",
       " 'order_hour_of_day',\n",
       " 'days_since_prior_order',\n",
       " 'product_id',\n",
       " 'add_to_cart_order',\n",
       " 'reordered',\n",
       " '_merge',\n",
       " 'product_name',\n",
       " 'aisle_id',\n",
       " 'department_id',\n",
       " 'prices',\n",
       " 'max_order',\n",
       " 'loyalty_flag',\n",
       " 'order_frequency_flag',\n",
       " 'Gender',\n",
       " 'state',\n",
       " 'age',\n",
       " 'date_joined',\n",
       " 'num_dependants',\n",
       " 'family_status',\n",
       " 'income',\n",
       " 'region']"
      ]
     },
     "execution_count": 17,
     "metadata": {},
     "output_type": "execute_result"
    }
   ],
   "source": [
    "df.columns.tolist()\n"
   ]
  },
  {
   "cell_type": "code",
   "execution_count": 18,
   "id": "37a2aa50-3ac2-4f8c-814f-54ad12f71ff8",
   "metadata": {},
   "outputs": [],
   "source": [
    "#calculate spending average user\n",
    "\n",
    "# Step 1: Calculate average spending per customer\n",
    "avg_spend_per_user = df.groupby('user_id')['prices'].mean().reset_index()\n",
    "avg_spend_per_user.columns = ['user_id', 'avg_spending']\n",
    "\n",
    "# Step 2: Merge back into main DataFrame\n",
    "df = pd.merge(df, avg_spend_per_user, on='user_id', how='left')"
   ]
  },
  {
   "cell_type": "code",
   "execution_count": 19,
   "id": "7d0c7fb5-e117-407a-b435-da97fba8db1c",
   "metadata": {},
   "outputs": [
    {
     "name": "stdout",
     "output_type": "stream",
     "text": [
      "spender_flag\n",
      "Low spender     0.996296\n",
      "High spender    0.003704\n",
      "Name: proportion, dtype: float64\n"
     ]
    }
   ],
   "source": [
    "# Step 3: Create spending flag\n",
    "df['spender_flag'] = df['avg_spending'].apply(lambda x: 'High spender' if x >= 10 else 'Low spender')\n",
    "\n",
    "# Optional: Check distribution\n",
    "print(df['spender_flag'].value_counts(normalize=True))"
   ]
  },
  {
   "cell_type": "code",
   "execution_count": 27,
   "id": "55fcc741-3845-47bb-96ac-75bf590c8669",
   "metadata": {},
   "outputs": [],
   "source": [
    "#The vast majority of customers (about 99.6%) are low spenders with an average spending below $10, while only a small fraction (around 0.37%) are high spenders averaging $10 or more."
   ]
  },
  {
   "cell_type": "code",
   "execution_count": 20,
   "id": "fa55ccce-1fb4-46cb-a9a7-236b1ef0e20d",
   "metadata": {},
   "outputs": [
    {
     "name": "stdout",
     "output_type": "stream",
     "text": [
      "spender_flag\n",
      "High spender    0.997321\n",
      "Low spender     0.002679\n",
      "Name: proportion, dtype: float64\n"
     ]
    }
   ],
   "source": [
    "# Re-create flag with $5 threshold\n",
    "df['spender_flag'] = df['avg_spending'].apply(lambda x: 'High spender' if x >= 5 else 'Low spender')\n",
    "\n",
    "\n",
    "print(df['spender_flag'].value_counts(normalize=True))\n"
   ]
  },
  {
   "cell_type": "code",
   "execution_count": 21,
   "id": "91165ce6-dfc7-41a9-bbe5-3d5e6290ced4",
   "metadata": {},
   "outputs": [],
   "source": [
    "#In this case, almost all customers (about 99.7%) are high spenders with average \n",
    "#spending above $10, and only a very small fraction (around 0.27%) are low spenders.\n",
    "#It means your marketing and sales efforts should primarily focus on retaining and upselling to the high spender segment,\n",
    "#since they make up almost the entire customer base and likely generate most of your revenue."
   ]
  },
  {
   "cell_type": "code",
   "execution_count": 44,
   "id": "afa594e0-d838-4883-92da-e564a3109a48",
   "metadata": {
    "scrolled": true
   },
   "outputs": [
    {
     "data": {
      "image/png": "[encoded data removed]",
      "text/plain": [
       "<Figure size 1000x500 with 1 Axes>"
      ]
     },
     "metadata": {},
     "output_type": "display_data"
    },
    {
     "name": "stdout",
     "output_type": "stream",
     "text": [
      "count    3.062974e+07\n",
      "mean     7.791917e+00\n",
      "std      7.340997e-01\n",
      "min      1.000000e+00\n",
      "25%      7.379406e+00\n",
      "50%      7.812698e+00\n",
      "75%      8.229583e+00\n",
      "max      2.320000e+01\n",
      "Name: avg_spending, dtype: float64\n",
      "0    6.367797\n",
      "1    6.367797\n",
      "2    6.367797\n",
      "3    6.367797\n",
      "4    6.367797\n",
      "5    6.367797\n",
      "6    6.367797\n",
      "7    6.367797\n",
      "8    6.367797\n",
      "9    6.367797\n",
      "Name: avg_spending, dtype: float64\n"
     ]
    }
   ],
   "source": [
    "#exploring average spending\n",
    "# Step 1: Calculate average spending per user_id\n",
    "user_avg_spending = df.groupby('user_id')['prices'].mean().reset_index()\n",
    "\n",
    "# Step 2: Rename the column to 'avg_spending'\n",
    "user_avg_spending = user_avg_spending.rename(columns={'prices': 'avg_spending'})\n",
    "\n",
    "# Step 3: Merge back with the original DataFrame if needed (optional)\n",
    "# This adds the avg_spending column to all rows of df based on user_id\n",
    "df = df.merge(user_avg_spending, on='user_id', how='left')\n",
    "\n",
    "# Step 4: Now plot the histogram of avg_spending\n",
    "import matplotlib.pyplot as plt\n",
    "\n",
    "plt.figure(figsize=(10,5))\n",
    "plt.hist(df['avg_spending'], bins=50, edgecolor='k')\n",
    "plt.title('Distribution of Average Spending per Customer')\n",
    "plt.xlabel('Average Spending ($)')\n",
    "plt.ylabel('Number of Customers')\n",
    "plt.xlim(0, 50)  # zoom in to see majority of spending\n",
    "plt.show()\n",
    "\n",
    "# Optional: Check stats and first few values\n",
    "print(df['avg_spending'].describe())\n",
    "print(df['avg_spending'].head(10))"
   ]
  },
  {
   "cell_type": "code",
   "execution_count": null,
   "id": "da1c1f5b-167e-4291-a1eb-369c24272b45",
   "metadata": {},
   "outputs": [],
   "source": [
    "#Most customers spend consistently around $7.79 per order, with very few outliers spending significantly more or less."
   ]
  },
  {
   "cell_type": "code",
   "execution_count": 22,
   "id": "e5f94ef4-1a64-430e-b7c0-d3b89390279a",
   "metadata": {},
   "outputs": [
    {
     "name": "stdout",
     "output_type": "stream",
     "text": [
      "Index(['order_id', 'user_id', 'eval_set', 'order_number', 'order_dow',\n",
      "       'order_hour_of_day', 'days_since_prior_order', 'product_id',\n",
      "       'add_to_cart_order', 'reordered', '_merge', 'product_name', 'aisle_id',\n",
      "       'department_id', 'prices', 'max_order', 'loyalty_flag',\n",
      "       'order_frequency_flag', 'Gender', 'state', 'age', 'date_joined',\n",
      "       'num_dependants', 'family_status', 'income', 'region', 'avg_spending',\n",
      "       'spender_flag'],\n",
      "      dtype='object')\n",
      "     state region  spender_flag\n",
      "0  Alabama  South  High spender\n",
      "1  Alabama  South  High spender\n"
     ]
    }
   ],
   "source": [
    "print(df.columns)\n",
    "print(df.head(2)[['state', 'region', 'spender_flag']])\n"
   ]
  },
  {
   "cell_type": "code",
   "execution_count": 23,
   "id": "983f1b83-e828-4df9-a127-d06a351a3a4f",
   "metadata": {},
   "outputs": [],
   "source": [
    "# Full state names grouped by region\n",
    "northeast = [\n",
    "    'Connecticut', 'Maine', 'Massachusetts', 'New Hampshire', 'Rhode Island',\n",
    "    'Vermont', 'New Jersey', 'New York', 'Pennsylvania'\n",
    "]\n",
    "\n",
    "midwest = [\n",
    "    'Illinois', 'Indiana', 'Michigan', 'Ohio', 'Wisconsin',\n",
    "    'Iowa', 'Kansas', 'Minnesota', 'Missouri', 'Nebraska',\n",
    "    'North Dakota', 'South Dakota'\n",
    "]\n",
    "\n",
    "south = [\n",
    "    'Delaware', 'Florida', 'Georgia', 'Maryland', 'North Carolina', 'South Carolina',\n",
    "    'Virginia', 'District of Columbia', 'West Virginia',\n",
    "    'Alabama', 'Kentucky', 'Mississippi', 'Tennessee', 'Arkansas',\n",
    "    'Louisiana', 'Oklahoma', 'Texas'\n",
    "]\n",
    "\n",
    "west = [\n",
    "    'Arizona', 'Colorado', 'Idaho', 'Montana', 'Nevada', 'New Mexico',\n",
    "    'Utah', 'Wyoming', 'Alaska', 'California', 'Hawaii', 'Oregon', 'Washington'\n",
    "]\n",
    "\n",
    "def assign_region(state):\n",
    "    if state in northeast:\n",
    "        return 'Northeast'\n",
    "    elif state in midwest:\n",
    "        return 'Midwest'\n",
    "    elif state in south:\n",
    "        return 'South'\n",
    "    elif state in west:\n",
    "        return 'West'\n",
    "    else:\n",
    "        return 'Other'\n",
    "\n",
    "df['region'] = df['state'].apply(assign_region)"
   ]
  },
  {
   "cell_type": "code",
   "execution_count": 24,
   "id": "0bf1ea5b-4398-47b4-8427-0d82da358b1e",
   "metadata": {},
   "outputs": [
    {
     "name": "stdout",
     "output_type": "stream",
     "text": [
      "spender_flag  High spender  Low spender\n",
      "region                                 \n",
      "Midwest           0.997497     0.002503\n",
      "Northeast         0.997619     0.002381\n",
      "South             0.997132     0.002868\n",
      "West              0.997199     0.002801\n"
     ]
    }
   ],
   "source": [
    "# Crosstab spending flag by region, showing proportion within each region\n",
    "spending_by_region = pd.crosstab(df['region'], df['spender_flag'], normalize='index') \n",
    "\n",
    "print(spending_by_region)"
   ]
  },
  {
   "cell_type": "code",
   "execution_count": 25,
   "id": "470c81b9-0549-4104-824b-e6152187120b",
   "metadata": {},
   "outputs": [
    {
     "name": "stdout",
     "output_type": "stream",
     "text": [
      "True\n"
     ]
    }
   ],
   "source": [
    "# Test Spenderflag - Should print True if the column exists\n",
    "print('spender_flag' in df.columns) \n"
   ]
  },
  {
   "cell_type": "code",
   "execution_count": 26,
   "id": "a32932cd-7c89-49fa-be26-2c64a07c0a80",
   "metadata": {},
   "outputs": [],
   "source": [
    "# Create Spenderflag as it is false\n",
    "\n",
    "threshold = 50  # I can tweak this number based on data insights\n",
    "\n",
    "df['spender_flag'] = df['avg_spending'].apply(lambda x: 'High spender' if x > threshold else 'Low spender')\n"
   ]
  },
  {
   "cell_type": "code",
   "execution_count": 27,
   "id": "4f7469eb-555d-441c-a151-0e7dea3f3185",
   "metadata": {},
   "outputs": [
    {
     "name": "stdout",
     "output_type": "stream",
     "text": [
      "   avg_spending spender_flag\n",
      "0      6.367797  Low spender\n",
      "1      6.367797  Low spender\n",
      "2      6.367797  Low spender\n",
      "3      6.367797  Low spender\n",
      "4      6.367797  Low spender\n",
      "5      6.367797  Low spender\n",
      "6      6.367797  Low spender\n",
      "7      6.367797  Low spender\n",
      "8      6.367797  Low spender\n",
      "9      6.367797  Low spender\n"
     ]
    }
   ],
   "source": [
    "# show average spender\n",
    "\n",
    "print(df[['avg_spending', 'spender_flag']].head(10))\n"
   ]
  },
  {
   "cell_type": "code",
   "execution_count": 28,
   "id": "50dc66da-b8bd-4f3e-8154-9e648cd318f0",
   "metadata": {},
   "outputs": [
    {
     "name": "stdout",
     "output_type": "stream",
     "text": [
      "spender_flag  Low spender\n",
      "region                   \n",
      "Midwest               1.0\n",
      "Northeast             1.0\n",
      "South                 1.0\n",
      "West                  1.0\n"
     ]
    }
   ],
   "source": [
    "# show spending per region\n",
    "\n",
    "\n",
    "spending_by_region = pd.crosstab(df['region'], df['spender_flag'], normalize='index')\n",
    "print(spending_by_region)\n"
   ]
  },
  {
   "cell_type": "code",
   "execution_count": 29,
   "id": "227b3a12-3e02-48ca-b0a2-778f24cc3d4c",
   "metadata": {},
   "outputs": [],
   "source": [
    "#low_activity_flag\n",
    "df['low_activity_flag'] = df['order_number'].apply(lambda x: 'Low activity' if x < 5 else 'Active')"
   ]
  },
  {
   "cell_type": "code",
   "execution_count": 30,
   "id": "8d4ba808-94a0-4a2c-8f23-653b12f46ec6",
   "metadata": {},
   "outputs": [],
   "source": [
    "#filter\n",
    "df_active = df[df['low_activity_flag'] == 'Active']"
   ]
  },
  {
   "cell_type": "code",
   "execution_count": null,
   "id": "0967a7b0-af34-43c0-91a2-9a84e5b6c52e",
   "metadata": {},
   "outputs": [],
   "source": [
    "def customer_profile(row):\n",
    "    if row['age'] < 35 and row['num_dependants'] == 0:\n",
    "        return 'Young adult'\n",
    "    elif row['age'] < 35 and row['num_dependants'] > 0:\n",
    "        return 'Young parent'\n",
    "    elif row['age'] >= 35 and row['income'] > 100000 and row['num_dependants'] >= 2:\n",
    "        return 'Affluent family'\n",
    "    elif row['age'] >= 60:\n",
    "        return 'Senior'\n",
    "    else:\n",
    "        return 'Other'\n",
    "\n",
    "df_active['profile'] = df_active.apply(customer_profile, axis=1)\n"
   ]
  },
  {
   "cell_type": "code",
   "execution_count": null,
   "id": "afe09785-5995-46f0-ba23-5f047d7a4d6c",
   "metadata": {},
   "outputs": [],
   "source": [
    "#Step 5: Compare Profiles with Region and Department\n",
    "# Profile by region\n",
    "profile_region_ct = pd.crosstab(df_active['profile'], df_active['region'], normalize='index')\n",
    "print(profile_region_ct)\n",
    "\n",
    "# Profile by department\n",
    "profile_dept_ct = pd.crosstab(df_active['profile'], df_active['department_id'])\n",
    "print(profile_dept_ct.head())"
   ]
  },
  {
   "cell_type": "code",
   "execution_count": null,
   "id": "5c2d5f64-fbec-400a-a31b-ffe8819fe25e",
   "metadata": {},
   "outputs": [],
   "source": [
    "#visualization\n",
    "\n",
    "profile_region_ct.plot(kind='bar', stacked=True, figsize=(10,6), title='Profile Distribution Across Regions')\n",
    "plt.ylabel('Proportion')\n",
    "plt.legend(title='Region')\n",
    "plt.tight_layout()\n",
    "plt.show()"
   ]
  },
  {
   "cell_type": "code",
   "execution_count": null,
   "id": "1b2f4be2-e49d-47cb-82b0-f856dc0386f8",
   "metadata": {},
   "outputs": [],
   "source": [
    "#Check Profile Distribution\n",
    "\n",
    "print(df_active['profile'].value_counts(dropna=False))\n"
   ]
  },
  {
   "cell_type": "code",
   "execution_count": null,
   "id": "64cc943f-4384-4aef-aa30-4ee3699d2e3a",
   "metadata": {},
   "outputs": [],
   "source": [
    "\n",
    "#Then visualize:import matplotlib.pyplot as plt\n",
    "\n",
    "df_active['profile'].value_counts().plot(kind='bar', \n",
    "                                         title='Customer Profile Distribution',\n",
    "                                         color='teal')\n",
    "plt.xlabel('Profile')\n",
    "plt.ylabel('Number of Customers')\n",
    "plt.xticks(rotation=45)\n",
    "plt.tight_layout()\n",
    "plt.show()"
   ]
  },
  {
   "cell_type": "code",
   "execution_count": null,
   "id": "4c5a9240-f3b7-4386-90e1-207c4d0bb9d9",
   "metadata": {},
   "outputs": [],
   "source": [
    "# Aggregated statistics by 'profile' for the full dataset\n",
    "profile_summary = df.groupby('profile').agg({\n",
    "    'max_order': ['min', 'mean', 'max'],\n",
    "    'avg_spending': ['min', 'mean', 'max']\n",
    "})\n",
    "\n",
    "# Round and print\n",
    "profile_summary = profile_summary.round(2)\n",
    "print(profile_summary)\n",
    "\n",
    "print(df.columns)\n"
   ]
  },
  {
   "cell_type": "code",
   "execution_count": null,
   "id": "c061b675-384b-47c6-a227-7bdfe245097d",
   "metadata": {},
   "outputs": [],
   "source": [
    "#3. Check Regional Profile Mix\n",
    "profile_region_ct = pd.crosstab(df_active['profile'], df_active['region'], normalize='index')\n",
    "\n",
    "print(profile_region_ct.round(3))  # Rounded for easier reading\n",
    "\n",
    "# Visualize\n",
    "profile_region_ct.plot(kind='bar', stacked=True, figsize=(10, 6), colormap='viridis')\n",
    "plt.title('Customer Profiles by Region')\n",
    "plt.ylabel('Proportion')\n",
    "plt.xlabel('Customer Profile')\n",
    "plt.xticks(rotation=45)\n",
    "plt.tight_layout()\n",
    "plt.show()\n"
   ]
  },
  {
   "cell_type": "code",
   "execution_count": null,
   "id": "5ecc49fe-152d-4715-ae01-d527c2790714",
   "metadata": {},
   "outputs": [],
   "source": [
    "#4. Compare Profiles with Departments (Optional but useful)\n",
    "rofile_department_ct = pd.crosstab(df_active['profile'], df_active['department_id'], normalize='index')\n",
    "print(profile_department_ct.head())  # First few rows\n",
    "\n",
    "# Optional: Heatmap-style visual using seaborn\n",
    "import seaborn as sns\n",
    "\n",
    "plt.figure(figsize=(12, 6))\n",
    "sns.heatmap(profile_department_ct, cmap='YlGnBu')\n",
    "plt.title('Customer Profile vs Department ID')\n",
    "plt.xlabel('Department ID')\n",
    "plt.ylabel('Customer Profile')\n",
    "plt.tight_layout()\n",
    "plt.show()"
   ]
  },
  {
   "cell_type": "code",
   "execution_count": null,
   "id": "f51bd755-9a4d-48d0-80ee-4433c6138d63",
   "metadata": {},
   "outputs": [],
   "source": [
    "# Drop duplicate columns if they exist\n",
    "df_active = df_active.drop(columns=['avg_spending_x', 'avg_spending_y'], errors='ignore')\n",
    "\n",
    "# Recheck for nulls in key columns\n",
    "print(df_active[['profile', 'region', 'avg_spending']].isnull().sum())\n",
    "\n",
    "# Save final version as pickle (optional but ideal)\n",
    "df_active.to_pickle('/Users/am/Desktop/CF Data Analysis essentials /2_Data Analytics Immersions_2 von 3/4 Phyton/4.10 Coding Etiquette & Excel Reporting/Part1_final.pkl')"
   ]
  },
  {
   "cell_type": "code",
   "execution_count": null,
   "id": "e6ca7254-160a-46e4-99d1-684886e72484",
   "metadata": {},
   "outputs": [],
   "source": [
    "import os\n",
    "print(\"Current working directory:\")\n",
    "print(os.getcwd())"
   ]
  },
  {
   "cell_type": "code",
   "execution_count": null,
   "id": "5ee75ee6-1a54-452a-818e-9ca9c6720781",
   "metadata": {},
   "outputs": [],
   "source": []
  }
 ],
 "metadata": {
  "kernelspec": {
   "display_name": "Python 3 (ipykernel)",
   "language": "python",
   "name": "python3"
  },
  "language_info": {
   "codemirror_mode": {
    "name": "ipython",
    "version": 3
   },
   "file_extension": ".py",
   "mimetype": "text/x-python",
   "name": "python",
   "nbconvert_exporter": "python",
   "pygments_lexer": "ipython3",
   "version": "3.11.7"
  }
 },
 "nbformat": 4,
 "nbformat_minor": 5
}
